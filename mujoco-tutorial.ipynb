{
 "cells": [
  {
   "cell_type": "markdown",
   "metadata": {
    "id": "MpkYHwCqk7W-"
   },
   "source": [
    "![MuJoCo banner](https://raw.githubusercontent.com/deepmind/mujoco/main/banner.png)\n",
    "\n",
    "# <h1><center>Tutorial  <a href=\"https://colab.research.google.com/github/deepmind/mujoco/blob/main/python/tutorial.ipynb\"><img src=\"https://colab.research.google.com/assets/colab-badge.svg\" width=\"140\" align=\"center\"/></a></center></h1>\n",
    "\n",
    "This notebook provides an introductory tutorial for [**MuJoCo** physics](https://github.com/deepmind/mujoco#readme), using the native Python bindings.\n",
    "\n",
    "**A Colab runtime with GPU acceleration is required.** If you're using a CPU-only runtime, you can switch using the menu \"Runtime > Change runtime type\".\n",
    "\n",
    "\n",
    "\n",
    "\n",
    "\n",
    "\n",
    "\n",
    "\n"
   ]
  },
  {
   "cell_type": "markdown",
   "metadata": {
    "id": "xBSdkbmGN2K-"
   },
   "source": [
    "### Copyright notice"
   ]
  },
  {
   "cell_type": "markdown",
   "metadata": {
    "id": "_UbO9uhtBSX5"
   },
   "source": [
    "> <p><small><small>Copyright 2022 DeepMind Technologies Limited.</small></p>\n",
    "> <p><small><small>Licensed under the Apache License, Version 2.0 (the \"License\"); you may not use this file except in compliance with the License. You may obtain a copy of the License at <a href=\"http://www.apache.org/licenses/LICENSE-2.0\">http://www.apache.org/licenses/LICENSE-2.0</a>.</small></small></p>\n",
    "> <p><small><small>Unless required by applicable law or agreed to in writing, software distributed under the License is distributed on an \"AS IS\" BASIS, WITHOUT WARRANTIES OR CONDITIONS OF ANY KIND, either express or implied. See the License for the specific language governing permissions and limitations under the License.</small></small></p>"
   ]
  },
  {
   "cell_type": "markdown",
   "metadata": {
    "id": "YvyGCsgSCxHQ"
   },
   "source": [
    "# Install MuJoCo"
   ]
  },
  {
   "cell_type": "code",
   "execution_count": null,
   "metadata": {
    "id": "Xqo7pyX-n72M"
   },
   "outputs": [],
   "source": [
    "!pip install mujoco"
   ]
  },
  {
   "cell_type": "code",
   "execution_count": 5,
   "metadata": {
    "cellView": "form",
    "id": "IbZxYDxzoz5R"
   },
   "outputs": [
    {
     "name": "stdout",
     "output_type": "stream",
     "text": [
      "Checking that the installation succeeded:\n",
      "Installation successful.\n"
     ]
    }
   ],
   "source": [
    "#@title Check if installation was successful\n",
    "\n",
    "# from google.colab import files\n",
    "\n",
    "import distutils.util\n",
    "import subprocess\n",
    "\n",
    "try:\n",
    "  print('Checking that the installation succeeded:')\n",
    "  import mujoco\n",
    "  mujoco.MjModel.from_xml_string('<mujoco/>')\n",
    "except Exception as e:\n",
    "  raise e from RuntimeError(\n",
    "      'Something went wrong during installation. Check the shell output above '\n",
    "      'for more information.\\n'\n",
    "      'If using a hosted Colab runtime, make sure you enable GPU acceleration '\n",
    "      'by going to the Runtime menu and selecting \"Choose runtime type\".')\n",
    "\n",
    "print('Installation successful.')"
   ]
  },
  {
   "cell_type": "code",
   "execution_count": 6,
   "metadata": {
    "cellView": "form",
    "id": "T5f4w3Kq2X14"
   },
   "outputs": [
    {
     "name": "stdout",
     "output_type": "stream",
     "text": [
      "Installing mediapy:\n"
     ]
    }
   ],
   "source": [
    "#@title Import packages for plotting and creating graphics\n",
    "import time\n",
    "import itertools\n",
    "import numpy as np\n",
    "from typing import Callable, NamedTuple, Optional, Union, List\n",
    "\n",
    "# Graphics and plotting.\n",
    "print('Installing mediapy:')\n",
    "!command -v ffmpeg >/dev/null || (apt update && apt install -y ffmpeg)\n",
    "!pip install -q mediapy\n",
    "import mediapy as media\n",
    "import matplotlib.pyplot as plt\n",
    "\n",
    "# More legible printing from numpy.\n",
    "np.set_printoptions(precision=3, suppress=True, linewidth=100)"
   ]
  },
  {
   "cell_type": "markdown",
   "metadata": {
    "id": "t0CF6Gvkt_Cw"
   },
   "source": [
    "# MuJoCo basics\n",
    "\n",
    "We begin by defining and loading a simple model:"
   ]
  },
  {
   "cell_type": "code",
   "execution_count": 7,
   "metadata": {
    "id": "3KJVqak6xdJa"
   },
   "outputs": [],
   "source": [
    "xml = \"\"\"\n",
    "<mujoco>\n",
    "  <worldbody>\n",
    "    <geom name=\"red_box\" type=\"box\" size=\".2 .2 .2\" rgba=\"1 0 0 1\"/>\n",
    "    <geom name=\"green_sphere\" pos=\".2 .2 .2\" size=\".1\" rgba=\"0 1 0 1\"/>\n",
    "  </worldbody>\n",
    "</mujoco>\n",
    "\"\"\"\n",
    "model = mujoco.MjModel.from_xml_string(xml)"
   ]
  },
  {
   "cell_type": "markdown",
   "metadata": {
    "id": "slhf39lGxvDI"
   },
   "source": [
    "The `xml` string is written in MuJoCo's [MJCF](http://www.mujoco.org/book/modeling.html), which is an [XML](https://en.wikipedia.org/wiki/XML#Key_terminology)-based modeling language.\n",
    "  - The only required element is `<mujoco>`. The smallest valid MJCF model is `<mujoco/>` which is a completely empty model.\n",
    "  - All physical elements live inside the `<worldbody>` which is always the top-level body and constitutes the global origin in Cartesian coordinates.\n",
    "  - We define two geoms in the world named `red_box` and `green_sphere`.\n",
    "  - **Question:** The `red_box` has no position, the `green_sphere` has no type, why is that?\n",
    "    - **Answer:** MJCF attributes have *default values*. The default position is `0 0 0`, the default geom type is `sphere`. The MJCF language is described in the documentation's [XML Reference chapter](https://mujoco.readthedocs.io/en/latest/XMLreference.html).\n",
    "\n",
    "The `from_xml_string()` method invokes the model compiler, which creates a binary `mjModel` instance."
   ]
  },
  {
   "cell_type": "markdown",
   "metadata": {
    "id": "gf9h_wi9weet"
   },
   "source": [
    "## mjModel\n",
    "\n",
    "MuJoCo's `mjModel`, contains the *model description*, i.e., all quantities which *do not change over time*. The complete description of `mjModel` can be found at the end of the header file [`mjmodel.h`](https://github.com/deepmind/mujoco/blob/main/include/mujoco/mjmodel.h). Note that the header files contain short, useful inline comments, describing each field.\n",
    "\n",
    "Examples of quantities that can be found in `mjModel` are `ngeom`, the number of geoms in the scene and `geom_rgba`, their respective colors:"
   ]
  },
  {
   "cell_type": "code",
   "execution_count": 8,
   "metadata": {
    "id": "F40Pe6DY3Q0g"
   },
   "outputs": [
    {
     "data": {
      "text/plain": [
       "2"
      ]
     },
     "execution_count": 8,
     "metadata": {},
     "output_type": "execute_result"
    }
   ],
   "source": [
    "model.ngeom"
   ]
  },
  {
   "cell_type": "code",
   "execution_count": 9,
   "metadata": {
    "id": "MOIJG9pzx8cA"
   },
   "outputs": [
    {
     "data": {
      "text/plain": [
       "array([[1., 0., 0., 1.],\n",
       "       [0., 1., 0., 1.]], dtype=float32)"
      ]
     },
     "execution_count": 9,
     "metadata": {},
     "output_type": "execute_result"
    }
   ],
   "source": [
    "model.geom_rgba"
   ]
  },
  {
   "cell_type": "markdown",
   "metadata": {
    "id": "bzcLjdY23Kvp"
   },
   "source": [
    "## Named access\n",
    "\n",
    "The MuJoCo Python bindings provide convenient [accessors](https://mujoco.readthedocs.io/en/latest/python.html#named-access) using names. Calling the `model.geom()` accessor without a name string generates a convenient error that tells us what the valid names are."
   ]
  },
  {
   "cell_type": "code",
   "execution_count": 10,
   "metadata": {
    "id": "9AuTwbLFyJxQ"
   },
   "outputs": [
    {
     "name": "stdout",
     "output_type": "stream",
     "text": [
      "\"Invalid name ''. Valid names: ['green_sphere', 'red_box']\"\n"
     ]
    }
   ],
   "source": [
    "try:\n",
    "  model.geom()\n",
    "except KeyError as e:\n",
    "  print(e)"
   ]
  },
  {
   "cell_type": "markdown",
   "metadata": {
    "id": "qkfLK3h2zrqr"
   },
   "source": [
    "Calling the named accessor without specifying a property will tell us what all the valid properties are:"
   ]
  },
  {
   "cell_type": "code",
   "execution_count": 11,
   "metadata": {
    "id": "9X95TlWnyEEw"
   },
   "outputs": [
    {
     "data": {
      "text/plain": [
       "<_MjModelGeomViews\n",
       "  bodyid: array([0], dtype=int32)\n",
       "  conaffinity: array([1], dtype=int32)\n",
       "  condim: array([3], dtype=int32)\n",
       "  contype: array([1], dtype=int32)\n",
       "  dataid: array([-1], dtype=int32)\n",
       "  friction: array([1.   , 0.005, 0.   ])\n",
       "  gap: array([0.])\n",
       "  group: array([0], dtype=int32)\n",
       "  id: 1\n",
       "  margin: array([0.])\n",
       "  matid: array([-1], dtype=int32)\n",
       "  name: 'green_sphere'\n",
       "  pos: array([0.2, 0.2, 0.2])\n",
       "  priority: array([0], dtype=int32)\n",
       "  quat: array([1., 0., 0., 0.])\n",
       "  rbound: array([0.1])\n",
       "  rgba: array([0., 1., 0., 1.], dtype=float32)\n",
       "  sameframe: array([0], dtype=uint8)\n",
       "  size: array([0.1, 0. , 0. ])\n",
       "  solimp: array([0.9  , 0.95 , 0.001, 0.5  , 2.   ])\n",
       "  solmix: array([1.])\n",
       "  solref: array([0.02, 1.  ])\n",
       "  type: array([2], dtype=int32)\n",
       "  user: array([], dtype=float64)\n",
       ">"
      ]
     },
     "execution_count": 11,
     "metadata": {},
     "output_type": "execute_result"
    }
   ],
   "source": [
    "model.geom('green_sphere')"
   ]
  },
  {
   "cell_type": "markdown",
   "metadata": {
    "id": "mS9qDLevKsJq"
   },
   "source": [
    "Let's read the `green_sphere`'s rgba values:"
   ]
  },
  {
   "cell_type": "code",
   "execution_count": 12,
   "metadata": {
    "id": "xsBlJAV7zpHb"
   },
   "outputs": [
    {
     "data": {
      "text/plain": [
       "array([0., 1., 0., 1.], dtype=float32)"
      ]
     },
     "execution_count": 12,
     "metadata": {},
     "output_type": "execute_result"
    }
   ],
   "source": [
    "model.geom('green_sphere').rgba"
   ]
  },
  {
   "cell_type": "markdown",
   "metadata": {
    "id": "8a8hswjjKyIa"
   },
   "source": [
    "This functionality is a convenience shortcut for MuJoCo's [`mj_name2id`](https://mujoco.readthedocs.io/en/latest/APIreference.html?highlight=mj_name2id#mj-name2id) function:"
   ]
  },
  {
   "cell_type": "code",
   "execution_count": 13,
   "metadata": {
    "id": "Ng92hNUoKnVq"
   },
   "outputs": [
    {
     "data": {
      "text/plain": [
       "array([0., 1., 0., 1.], dtype=float32)"
      ]
     },
     "execution_count": 13,
     "metadata": {},
     "output_type": "execute_result"
    }
   ],
   "source": [
    "id = mujoco.mj_name2id(model, mujoco.mjtObj.mjOBJ_GEOM, 'green_sphere')\n",
    "model.geom_rgba[id, :]"
   ]
  },
  {
   "cell_type": "markdown",
   "metadata": {
    "id": "5WL_SaJPLl3r"
   },
   "source": [
    "Similarly, the read-only `id` and `name` properties can be used to convert from id to name and back:"
   ]
  },
  {
   "cell_type": "code",
   "execution_count": 14,
   "metadata": {
    "id": "2CbGSmRZeE5p"
   },
   "outputs": [
    {
     "name": "stdout",
     "output_type": "stream",
     "text": [
      "id of \"green_sphere\":  1\n",
      "name of geom 1:  green_sphere\n",
      "name of body 0:  world\n"
     ]
    }
   ],
   "source": [
    "print('id of \"green_sphere\": ', model.geom('green_sphere').id)\n",
    "print('name of geom 1: ', model.geom(1).name)\n",
    "print('name of body 0: ', model.body(0).name)"
   ]
  },
  {
   "cell_type": "markdown",
   "metadata": {
    "id": "3RIizubaL_du"
   },
   "source": [
    "Note that the 0th body is always the `world`. It cannot be renamed.\n",
    "\n",
    "The `id` and `name` attributes are useful in Python comprehensions:"
   ]
  },
  {
   "cell_type": "code",
   "execution_count": 15,
   "metadata": {
    "id": "m3MtIE5F1K7s"
   },
   "outputs": [
    {
     "data": {
      "text/plain": [
       "['red_box', 'green_sphere']"
      ]
     },
     "execution_count": 15,
     "metadata": {},
     "output_type": "execute_result"
    }
   ],
   "source": [
    "[model.geom(i).name for i in range(model.ngeom)]"
   ]
  },
  {
   "cell_type": "markdown",
   "metadata": {
    "id": "t5hY0fyXFLcf"
   },
   "source": [
    "## `mjData`\n",
    "`mjData` contains the *state* and quantities that depend on it. The state is made up of time, [generalized](https://en.wikipedia.org/wiki/Generalized_coordinates) positions and generalized velocities. These are respectively `data.time`, `data.qpos` and `data.qvel`. In order to make a new `mjData`, all we need is our `mjModel`"
   ]
  },
  {
   "cell_type": "code",
   "execution_count": 16,
   "metadata": {
    "id": "FV2Hy6m948nr"
   },
   "outputs": [],
   "source": [
    "data = mujoco.MjData(model)"
   ]
  },
  {
   "cell_type": "markdown",
   "metadata": {
    "id": "-KmNuvlJ46u0"
   },
   "source": [
    "`mjData` also contains *functions of the state*, for example the Cartesian positions of objects in the world frame. The (x, y, z) positions of our two geoms are in `data.geom_xpos`:"
   ]
  },
  {
   "cell_type": "code",
   "execution_count": 17,
   "metadata": {
    "id": "CPwDcAQ0-uUE"
   },
   "outputs": [
    {
     "name": "stdout",
     "output_type": "stream",
     "text": [
      "[[0. 0. 0.]\n",
      " [0. 0. 0.]]\n"
     ]
    }
   ],
   "source": [
    "print(data.geom_xpos)"
   ]
  },
  {
   "cell_type": "markdown",
   "metadata": {
    "id": "Sjst5xGXX3sr"
   },
   "source": [
    "Wait, why are both of our geoms at the origin? Didn't we offset the green sphere? The answer is that derived quantities in `mjData` need to be explicitly propagated (see [below](#scrollTo=QY1gpms1HXeN)). In our case, the minimal required function is [`mj_kinematics`](https://mujoco.readthedocs.io/en/latest/APIreference.html#mj-kinematics), which computes global Cartesian poses for all objects (excluding cameras and lights)."
   ]
  },
  {
   "cell_type": "code",
   "execution_count": 18,
   "metadata": {
    "id": "tfe0YeZRYNTr"
   },
   "outputs": [
    {
     "name": "stdout",
     "output_type": "stream",
     "text": [
      "raw access:\n",
      " [[0.  0.  0. ]\n",
      " [0.2 0.2 0.2]]\n",
      "\n",
      "named access:\n",
      " [0.2 0.2 0.2]\n"
     ]
    }
   ],
   "source": [
    "mujoco.mj_kinematics(model, data)\n",
    "print('raw access:\\n', data.geom_xpos)\n",
    "\n",
    "# MjData also supports named access:\n",
    "print('\\nnamed access:\\n', data.geom('green_sphere').xpos)"
   ]
  },
  {
   "cell_type": "markdown",
   "metadata": {
    "id": "eU7uWNsTwmcZ"
   },
   "source": [
    "# Basic rendering, simulation, and animation\n",
    "\n",
    "In order to render we'll need to instantiate a `Renderer` object and call its `render` method.\n",
    "\n",
    "We'll also reload our model to make the colab's sections independent."
   ]
  },
  {
   "cell_type": "code",
   "execution_count": 19,
   "metadata": {
    "id": "xK3c0-UDxMrN"
   },
   "outputs": [
    {
     "data": {
      "text/html": [
       "<table class=\"show_images\" style=\"border-spacing:0px;\"><tr><td style=\"padding:1px;\"><img width=\"320\" height=\"240\" style=\"image-rendering:auto; object-fit:cover;\" src=\"data:image/png;base64,iVBORw0KGgoAAAANSUhEUgAAAUAAAADwCAIAAAD+Tyo8AAAA9UlEQVR4nO3BAQEAAACCIP+vbkhAAQAAAAAAAAAAAAAAAAAAAAAAAAAAAAAAAAAAAAAAAAAAAAAAAAAAAAAAAAAAAAAAAAAAAAAAAAAAAAAAAAAAAAAAAAAAAAAAAAAAAAAAAAAAAAAAAAAAAAAAAAAAAAAAAAAAAAAAAAAAAAAAAAAAAAAAAAAAAAAAAAAAAAAAAAAAAAAAAAAAAAAAAAAAAAAAAAAAAAAAAAAAAAAAAAAAAAAAAAAAAAAAAAAAAAAAAAAAAAAAAAAAAAAAAAAAAAAAAAAAAAAAAAAAAAAAAAAAAAAAAAAAAAAAAAAAAAAAAPBohR0AAXbPpmUAAAAASUVORK5CYII=\"/></td></tr></table>"
      ],
      "text/plain": [
       "<IPython.core.display.HTML object>"
      ]
     },
     "metadata": {},
     "output_type": "display_data"
    }
   ],
   "source": [
    "xml = \"\"\"\n",
    "<mujoco>\n",
    "  <worldbody>\n",
    "    <geom name=\"red_box\" type=\"box\" size=\".2 .2 .2\" rgba=\"1 0 0 1\"/>\n",
    "    <geom name=\"green_sphere\" pos=\".2 .2 .2\" size=\".1\" rgba=\"0 1 0 1\"/>\n",
    "  </worldbody>\n",
    "</mujoco>\n",
    "\"\"\"\n",
    "# Make model and data\n",
    "model = mujoco.MjModel.from_xml_string(xml)\n",
    "data = mujoco.MjData(model)\n",
    "\n",
    "# Make renderer, render and show the pixels\n",
    "renderer = mujoco.Renderer(model)\n",
    "media.show_image(renderer.render())"
   ]
  },
  {
   "cell_type": "markdown",
   "metadata": {
    "id": "ZkFSHeYGxlT5"
   },
   "source": [
    "Hmmm, why the black pixels?\n",
    "\n",
    "**Answer:** For the same reason as above, we first need to propagate the values in `mjData`. This time we'll call [`mj_forward`](https://mujoco.readthedocs.io/en/latest/APIreference.html#mj-forward), which invokes the entire pipeline up to the computation of accelerations i.e., it computes $\\dot x = f(x)$, where $x$ is the state. This function does more than we actually need, but unless we care about saving computation time, it's good practice to call `mj_forward` since then we know we are not missing anything.\n",
    "\n",
    "We also need to update the `mjvScene` which is an object held by the renderer describing the visual scene. We'll later see that the scene can include visual objects which are not part of the physical model."
   ]
  },
  {
   "cell_type": "code",
   "execution_count": 20,
   "metadata": {
    "id": "pvh47r97huS4"
   },
   "outputs": [
    {
     "data": {
      "text/html": [
       "<table class=\"show_images\" style=\"border-spacing:0px;\"><tr><td style=\"padding:1px;\"><img width=\"320\" height=\"240\" style=\"image-rendering:auto; object-fit:cover;\" src=\"data:image/png;base64,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\"/></td></tr></table>"
      ],
      "text/plain": [
       "<IPython.core.display.HTML object>"
      ]
     },
     "metadata": {},
     "output_type": "display_data"
    }
   ],
   "source": [
    "mujoco.mj_forward(model, data)\n",
    "renderer.update_scene(data)\n",
    "\n",
    "media.show_image(renderer.render())"
   ]
  },
  {
   "cell_type": "markdown",
   "metadata": {
    "id": "6oDW1dOUifw6"
   },
   "source": [
    "This worked, but this image is a bit dark. Let's add a light and re-render."
   ]
  },
  {
   "cell_type": "code",
   "execution_count": 21,
   "metadata": {
    "id": "iqzJj2NIr_2V"
   },
   "outputs": [
    {
     "data": {
      "text/html": [
       "<table class=\"show_images\" style=\"border-spacing:0px;\"><tr><td style=\"padding:1px;\"><img width=\"320\" height=\"240\" style=\"image-rendering:auto; object-fit:cover;\" src=\"data:image/png;base64,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\"/></td></tr></table>"
      ],
      "text/plain": [
       "<IPython.core.display.HTML object>"
      ]
     },
     "metadata": {},
     "output_type": "display_data"
    }
   ],
   "source": [
    "xml = \"\"\"\n",
    "<mujoco>\n",
    "  <worldbody>\n",
    "    <light name=\"top\" pos=\"0 0 1\"/>\n",
    "    <geom name=\"red_box\" type=\"box\" size=\".2 .2 .2\" rgba=\"1 0 0 1\"/>\n",
    "    <geom name=\"green_sphere\" pos=\".2 .2 .2\" size=\".1\" rgba=\"0 1 0 1\"/>\n",
    "  </worldbody>\n",
    "</mujoco>\n",
    "\"\"\"\n",
    "model = mujoco.MjModel.from_xml_string(xml)\n",
    "data = mujoco.MjData(model)\n",
    "renderer = mujoco.Renderer(model)\n",
    "\n",
    "mujoco.mj_forward(model, data)\n",
    "renderer.update_scene(data)\n",
    "\n",
    "media.show_image(renderer.render())"
   ]
  },
  {
   "cell_type": "markdown",
   "metadata": {
    "id": "HS4K38Eirww9"
   },
   "source": [
    "Much better!\n",
    "\n",
    "Note that all values in the `mjModel` instance are writable. While it's generally not recommended to do this but rather to change the values in the XML, because it's easy to make an invalid model, some values are safe to write into, for example colors:"
   ]
  },
  {
   "cell_type": "code",
   "execution_count": 22,
   "metadata": {
    "id": "GBNcQVYJrt2h"
   },
   "outputs": [
    {
     "data": {
      "text/html": [
       "<table class=\"show_images\" style=\"border-spacing:0px;\"><tr><td style=\"padding:1px;\"><img width=\"320\" height=\"240\" style=\"image-rendering:auto; object-fit:cover;\" src=\"data:image/png;base64,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\"/></td></tr></table>"
      ],
      "text/plain": [
       "<IPython.core.display.HTML object>"
      ]
     },
     "metadata": {},
     "output_type": "display_data"
    }
   ],
   "source": [
    "# Run this cell multiple times for different colors\n",
    "model.geom('red_box').rgba[:3] = np.random.rand(3)\n",
    "renderer.update_scene(data)\n",
    "media.show_image(renderer.render())"
   ]
  },
  {
   "cell_type": "markdown",
   "metadata": {
    "id": "-P95E-QHizQq"
   },
   "source": [
    "# Simulation\n",
    "\n",
    "Now let's simulate and make a video. We'll use MuJoCo's main high level function `mj_step`, which steps the state $x_{t+h} = f(x_t)$.\n",
    "\n",
    "Note that in the code block below we are *not* rendering after each call to `mj_step`. This is because the default timestep is 2ms, and we want a 60fps video, not 500fps."
   ]
  },
  {
   "cell_type": "code",
   "execution_count": null,
   "metadata": {
    "id": "NdVnHOYisiKl"
   },
   "outputs": [],
   "source": [
    "duration = 3.8  # (seconds)\n",
    "framerate = 60  # (Hz)\n",
    "\n",
    "# Simulate and display video.\n",
    "frames = []\n",
    "mujoco.mj_resetData(model, data)  # Reset state and time.\n",
    "while data.time < duration:\n",
    "  mujoco.mj_step(model, data)\n",
    "  if len(frames) < data.time * framerate:\n",
    "    renderer.update_scene(data)\n",
    "    pixels = renderer.render()\n",
    "    frames.append(pixels)\n",
    "media.show_video(frames, fps=framerate)"
   ]
  },
  {
   "cell_type": "markdown",
   "metadata": {
    "id": "tYN4sL9RnsCU"
   },
   "source": [
    "Hmmm, the video is playing, but nothing is moving, why is that?\n",
    "\n",
    "This is because this model has no [degrees of freedom](https://www.google.com/url?sa=D&q=https%3A%2F%2Fen.wikipedia.org%2Fwiki%2FDegrees_of_freedom_(mechanics)) (DoFs). The things that move (and which have inertia) are called *bodies*. We add DoFs by adding *joints* to bodies, specifying how they can move with respect to their parents. Let's make a new body that contains our geoms, add a hinge joint and re-render, while visualizing the joint axis using the visualization option object `MjvOption`."
   ]
  },
  {
   "cell_type": "code",
   "execution_count": null,
   "metadata": {
    "id": "LbWf84VYst5m"
   },
   "outputs": [],
   "source": [
    "xml = \"\"\"\n",
    "<mujoco>\n",
    "  <worldbody>\n",
    "    <light name=\"top\" pos=\"0 0 1\"/>\n",
    "    <body name=\"box_and_sphere\" euler=\"0 0 -30\">\n",
    "      <joint name=\"swing\" type=\"hinge\" axis=\"1 -1 0\" pos=\"-.2 -.2 -.2\"/>\n",
    "      <geom name=\"red_box\" type=\"box\" size=\".2 .2 .2\" rgba=\"1 0 0 1\"/>\n",
    "      <geom name=\"green_sphere\" pos=\".2 .2 .2\" size=\".1\" rgba=\"0 1 0 1\"/>\n",
    "    </body>\n",
    "  </worldbody>\n",
    "</mujoco>\n",
    "\"\"\"\n",
    "model = mujoco.MjModel.from_xml_string(xml)\n",
    "data = mujoco.MjData(model)\n",
    "renderer = mujoco.Renderer(model)\n",
    "\n",
    "# enable joint visualization option:\n",
    "scene_option = mujoco.MjvOption()\n",
    "scene_option.flags[mujoco.mjtVisFlag.mjVIS_JOINT] = True\n",
    "\n",
    "duration = 3.8  # (seconds)\n",
    "framerate = 60  # (Hz)\n",
    "\n",
    "frames = []\n",
    "mujoco.mj_resetData(model, data)\n",
    "while data.time < duration:\n",
    "  mujoco.mj_step(model, data)\n",
    "  if len(frames) < data.time * framerate:\n",
    "    renderer.update_scene(data, scene_option=scene_option)\n",
    "    pixels = renderer.render()\n",
    "    frames.append(pixels)\n",
    "\n",
    "# Simulate and display video.\n",
    "media.show_video(frames, fps=framerate)"
   ]
  },
  {
   "cell_type": "markdown",
   "metadata": {
    "id": "Ymv-tvWCpl6V"
   },
   "source": [
    "Note that we rotated the `box_and_sphere` body by 30° around the Z (vertical) axis, with the directive `euler=\"0 0 -30\"`. This was made to emphasize that the poses of elements in the [kinematic tree](https://www.google.com/url?sa=D&q=https%3A%2F%2Fen.wikipedia.org%2Fwiki%2FKinematic_chain) are always with respect to their *parent body*, so our two geoms were also rotated by this transformation.\n",
    "\n",
    "Physics options live in `mjModel.opt`, for example the timestep:"
   ]
  },
  {
   "cell_type": "code",
   "execution_count": null,
   "metadata": {
    "id": "5yvAJokcpyX_"
   },
   "outputs": [],
   "source": [
    "model.opt.timestep"
   ]
  },
  {
   "cell_type": "markdown",
   "metadata": {
    "id": "SdkwLeGUp9B2"
   },
   "source": [
    "Let's flip gravity and re-render:"
   ]
  },
  {
   "cell_type": "code",
   "execution_count": null,
   "metadata": {
    "id": "ocjPQG8Dp2F-"
   },
   "outputs": [],
   "source": [
    "print('default gravity', model.opt.gravity)\n",
    "model.opt.gravity = (0, 0, 10)\n",
    "print('flipped gravity', model.opt.gravity)\n",
    "\n",
    "frames = []\n",
    "mujoco.mj_resetData(model, data)\n",
    "while data.time < duration:\n",
    "  mujoco.mj_step(model, data)\n",
    "  if len(frames) < data.time * framerate:\n",
    "    renderer.update_scene(data, scene_option=scene_option)\n",
    "    pixels = renderer.render()\n",
    "    frames.append(pixels)\n",
    "\n",
    "media.show_video(frames, fps=60)"
   ]
  },
  {
   "cell_type": "markdown",
   "metadata": {
    "id": "FsxDDgXBqg_J"
   },
   "source": [
    "We could also have done this in XML using the top-level `<option>` element:\n",
    "```xml\n",
    "<mujoco>\n",
    "  <option gravity=\"0 0 10\"/>\n",
    "  ...\n",
    "</mujoco>\n",
    "```"
   ]
  },
  {
   "cell_type": "markdown",
   "metadata": {
    "id": "QY1gpms1HXeN"
   },
   "source": [
    "### Understanding Degrees of Freedom\n",
    "\n",
    "In the real world, all rigid objects have 6 degrees-of-freedom: 3 translations and 3 rotations. Real-world joints act as constraints, removing relative degrees-of-freedom from bodies connected by joints. Some physics simulation software use this representation which is known as the \"Cartesian\" or \"subtractive\" representation, but it is inefficient. MuJoCo uses a representation known as the \"Lagrangian\", \"generalized\" or \"additive\" representation, whereby objects have no degrees of freedom unless explicitly added using joints.\n",
    "\n",
    "Our model, which has a single hinge joint, has one degree of freedom, and the entire state is defined by this joint's angle and angular velocity. These are the system's generalized position and velocity."
   ]
  },
  {
   "cell_type": "code",
   "execution_count": null,
   "metadata": {
    "id": "wEdfGEfSKAOC"
   },
   "outputs": [],
   "source": [
    "print('Total number of DoFs in the model:', model.nv)\n",
    "print('Generalized positions:', data.qpos)\n",
    "print('Generalized velocities:', data.qvel)"
   ]
  },
  {
   "cell_type": "markdown",
   "metadata": {
    "id": "Z8E-P5xONUSn"
   },
   "source": [
    "MuJoCo's use of generalized coordinates is the reason that calling a function (e.g. [`mj_forward`](https://mujoco.readthedocs.io/en/latest/APIreference.html#mj-forward)) is required before rendering or reading the global poses of objects – Cartesian positions are *derived* from the generalized positions and need to be explicitly computed."
   ]
  },
  {
   "cell_type": "markdown",
   "metadata": {
    "id": "SHppAOjvSupc"
   },
   "source": [
    "# Example: Simulating free bodies with the self-inverting \"tippe-top\"\n",
    "\n",
    "A free body is a body with a [free joint](https://www.google.com/url?sa=D&q=https%3A%2F%2Fmujoco.readthedocs.io%2Fen%2Flatest%2FXMLreference.html%3Fhighlight%3Dfreejoint%23body-freejoint) having 6 DoFs, i.e., 3 translations and 3 rotations. We could give our `box_and_sphere` body a free joint and watch it fall, but let's look at something more interesting. A \"tippe top\" is a spinning toy which flips itself ([video](https://www.youtube.com/watch?v=kbYpVrdcszQ), [Wikipedia](https://en.wikipedia.org/wiki/Tippe_top)). We model it as follows:"
   ]
  },
  {
   "cell_type": "code",
   "execution_count": null,
   "metadata": {
    "id": "xasXQpVMjIwA"
   },
   "outputs": [],
   "source": [
    "tippe_top = \"\"\"\n",
    "<mujoco model=\"tippe top\">\n",
    "  <option integrator=\"RK4\"/>\n",
    "\n",
    "  <asset>\n",
    "    <texture name=\"grid\" type=\"2d\" builtin=\"checker\" rgb1=\".1 .2 .3\"\n",
    "     rgb2=\".2 .3 .4\" width=\"300\" height=\"300\"/>\n",
    "    <material name=\"grid\" texture=\"grid\" texrepeat=\"8 8\" reflectance=\".2\"/>\n",
    "  </asset>\n",
    "\n",
    "  <worldbody>\n",
    "    <geom size=\".2 .2 .01\" type=\"plane\" material=\"grid\"/>\n",
    "    <light pos=\"0 0 .6\"/>\n",
    "    <camera name=\"closeup\" pos=\"0 -.1 .07\" xyaxes=\"1 0 0 0 1 2\"/>\n",
    "    <body name=\"top\" pos=\"0 0 .02\">\n",
    "      <freejoint/>\n",
    "      <geom name=\"ball\" type=\"sphere\" size=\".02\" />\n",
    "      <geom name=\"stem\" type=\"cylinder\" pos=\"0 0 .02\" size=\"0.004 .008\"/>\n",
    "      <geom name=\"ballast\" type=\"box\" size=\".023 .023 0.005\"  pos=\"0 0 -.015\"\n",
    "       contype=\"0\" conaffinity=\"0\" group=\"3\"/>\n",
    "    </body>\n",
    "  </worldbody>\n",
    "\n",
    "  <keyframe>\n",
    "    <key name=\"spinning\" qpos=\"0 0 0.02 1 0 0 0\" qvel=\"0 0 0 0 1 200\" />\n",
    "  </keyframe>\n",
    "</mujoco>\n",
    "\"\"\"\n",
    "model = mujoco.MjModel.from_xml_string(tippe_top)\n",
    "renderer = mujoco.Renderer(model)\n",
    "data = mujoco.MjData(model)\n",
    "mujoco.mj_forward(model, data)\n",
    "renderer.update_scene(data, camera=\"closeup\")\n",
    "media.show_image(renderer.render())"
   ]
  },
  {
   "cell_type": "markdown",
   "metadata": {
    "id": "bvHlr6maJYIG"
   },
   "source": [
    "Note several new features of this model definition:\n",
    "1. A 6-DoF free joint is added with the `<freejoint/>` clause.\n",
    "2. We use the `<option/>` clause to set the integrator to the 4th order [Runge Kutta](https://en.wikipedia.org/wiki/Runge%E2%80%93Kutta_methods). Runge-Kutta has a higher rate of convergence than the default Euler integrator, which in many cases increases the accuracy at a given timestep size.\n",
    "3. We define the floor's grid material inside the `<asset/>` clause and reference it in the `\"floor\"` geom.\n",
    "4. We use an invisible and non-colliding box geom called `ballast` to move the top's center-of-mass lower. Having a low center of mass is (counter-intuitively) required for the flipping behavior to occur.\n",
    "5. We save our initial spinning state as a *keyframe*. It has a high rotational velocity around the Z-axis, but is not perfectly oriented with the world, which introduces the symmetry-breaking required for the flipping.\n",
    "6. We define a `<camera>` in our model, and then render from it using the `camera` argument to `update_scene()`.\n",
    "Let us examine the state:\n"
   ]
  },
  {
   "cell_type": "code",
   "execution_count": null,
   "metadata": {
    "id": "o4S9nYhHOKmb"
   },
   "outputs": [],
   "source": [
    "print('positions', data.qpos)\n",
    "print('velocities', data.qvel)"
   ]
  },
  {
   "cell_type": "markdown",
   "metadata": {
    "id": "71UgzBAqWdtZ"
   },
   "source": [
    "The velocities are easy to interpret, 6 zeros, one for each DoF. What about the length 7 positions? We can see the initial 2cm height of the body; the subsequent four numbers are the 3D orientation, defined by a *unit quaternion*. 3D orientations are represented with **4** numbers while angular velocities are **3** numbers. For more information see the Wikipedia article on [quaternions and spatial rotation](https://en.wikipedia.org/wiki/Quaternions_and_spatial_rotation).\n",
    "\n",
    "Let's make a video:"
   ]
  },
  {
   "cell_type": "code",
   "execution_count": null,
   "metadata": {
    "id": "5P4HkhKNGQvs"
   },
   "outputs": [],
   "source": [
    "duration = 7    # (seconds)\n",
    "framerate = 60  # (Hz)\n",
    "\n",
    "# Simulate and display video.\n",
    "frames = []\n",
    "mujoco.mj_resetDataKeyframe(model, data, 0)  # Reset the state to keyframe 0\n",
    "while data.time < duration:\n",
    "  mujoco.mj_step(model, data)\n",
    "  if len(frames) < data.time * framerate:\n",
    "    renderer.update_scene(data, \"closeup\")\n",
    "    pixels = renderer.render()\n",
    "    frames.append(pixels)\n",
    "\n",
    "media.show_video(frames, fps=framerate)"
   ]
  },
  {
   "cell_type": "markdown",
   "metadata": {
    "id": "rRuFKD2ubPgu"
   },
   "source": [
    "### Measuring values from `mjData`\n",
    "As mentioned above, the `mjData` structure contains the dynamic variables and intermediate results produced by the simulation which are *expected to change* on each timestep. Below we simulate for 2000 timesteps and plot the angular velocity of the top and height of the stem as a function of time."
   ]
  },
  {
   "cell_type": "code",
   "execution_count": null,
   "metadata": {
    "id": "1XXB6asJoZ2N"
   },
   "outputs": [],
   "source": [
    "timevals = []\n",
    "angular_velocity = []\n",
    "stem_height = []\n",
    "\n",
    "# Simulate and save data\n",
    "mujoco.mj_resetDataKeyframe(model, data, 0)\n",
    "while data.time < duration:\n",
    "  mujoco.mj_step(model, data)\n",
    "  timevals.append(data.time)\n",
    "  angular_velocity.append(data.qvel[3:6].copy())\n",
    "  stem_height.append(data.geom_xpos[2,2]);\n",
    "\n",
    "dpi = 120\n",
    "width = 600\n",
    "height = 800\n",
    "figsize = (width / dpi, height / dpi)\n",
    "_, ax = plt.subplots(2, 1, figsize=figsize, dpi=dpi, sharex=True)\n",
    "\n",
    "ax[0].plot(timevals, angular_velocity)\n",
    "ax[0].set_title('angular velocity')\n",
    "ax[0].set_ylabel('radians / second')\n",
    "\n",
    "ax[1].plot(timevals, stem_height)\n",
    "ax[1].set_xlabel('time (seconds)')\n",
    "ax[1].set_ylabel('meters')\n",
    "_ = ax[1].set_title('stem height')"
   ]
  },
  {
   "cell_type": "markdown",
   "metadata": {
    "id": "u_zN8vATwcGy"
   },
   "source": [
    "# Example: A chaotic pendulum"
   ]
  },
  {
   "cell_type": "markdown",
   "metadata": {
    "id": "g1MKUEL_eSCM"
   },
   "source": [
    "Below is a model of a chaotic pendulum, similar to [this one](https://www.exploratorium.edu/exhibits/chaotic-pendulum) in the San Francisco Exploratorium. "
   ]
  },
  {
   "cell_type": "code",
   "execution_count": null,
   "metadata": {
    "id": "3jHYTV-bwfrS"
   },
   "outputs": [],
   "source": [
    "chaotic_pendulum = \"\"\"\n",
    "<mujoco>\n",
    "  <option timestep=\".001\">\n",
    "    <flag energy=\"enable\" contact=\"disable\"/>\n",
    "  </option>\n",
    "\n",
    "  <default>\n",
    "    <joint type=\"hinge\" axis=\"0 -1 0\"/>\n",
    "    <geom type=\"capsule\" size=\".02\"/>\n",
    "  </default>\n",
    "\n",
    "  <worldbody>\n",
    "    <light pos=\"0 -.4 1\"/>\n",
    "    <camera name=\"fixed\" pos=\"0 -1 0\" xyaxes=\"1 0 0 0 0 1\"/>\n",
    "    <body name=\"0\" pos=\"0 0 .2\">\n",
    "      <joint name=\"root\"/>\n",
    "      <geom fromto=\"-.2 0 0 .2 0 0\" rgba=\"1 1 0 1\"/>\n",
    "      <geom fromto=\"0 0 0 0 0 -.25\" rgba=\"1 1 0 1\"/>\n",
    "      <body name=\"1\" pos=\"-.2 0 0\">\n",
    "        <joint/>\n",
    "        <geom fromto=\"0 0 0 0 0 -.2\" rgba=\"1 0 0 1\"/>\n",
    "      </body>\n",
    "      <body name=\"2\" pos=\".2 0 0\">\n",
    "        <joint/>\n",
    "        <geom fromto=\"0 0 0 0 0 -.2\" rgba=\"0 1 0 1\"/>\n",
    "      </body>\n",
    "      <body name=\"3\" pos=\"0 0 -.25\">\n",
    "        <joint/>\n",
    "        <geom fromto=\"0 0 0 0 0 -.2\" rgba=\"0 0 1 1\"/>\n",
    "      </body>\n",
    "    </body>\n",
    "  </worldbody>\n",
    "</mujoco>\n",
    "\"\"\"\n",
    "model = mujoco.MjModel.from_xml_string(chaotic_pendulum)\n",
    "renderer = mujoco.Renderer(model, 480, 640)\n",
    "data = mujoco.MjData(model)\n",
    "mujoco.mj_forward(model, data)\n",
    "renderer.update_scene(data, camera=\"fixed\")\n",
    "media.show_image(renderer.render())"
   ]
  },
  {
   "cell_type": "markdown",
   "metadata": {
    "id": "EKZrTBSS5f49"
   },
   "source": [
    "## Timing\n",
    "Let's see a video of it in action while we time the components:"
   ]
  },
  {
   "cell_type": "code",
   "execution_count": null,
   "metadata": {
    "id": "-kNWvE9dNwYW"
   },
   "outputs": [],
   "source": [
    "# setup\n",
    "n_seconds = 6\n",
    "framerate = 30  # Hz\n",
    "n_frames = int(n_seconds * framerate)\n",
    "frames = []\n",
    "renderer = mujoco.Renderer(model, 240, 320)\n",
    "\n",
    "\n",
    "# set initial state\n",
    "mujoco.mj_resetData(model, data)\n",
    "data.joint('root').qvel = 10\n",
    "\n",
    "\n",
    "# simulate and record frames\n",
    "frame = 0\n",
    "sim_time = 0\n",
    "render_time = 0\n",
    "n_steps = 0\n",
    "for i in range(n_frames):\n",
    "  while data.time * framerate < i:\n",
    "    tic = time.time()\n",
    "    mujoco.mj_step(model, data)\n",
    "    sim_time += time.time() - tic\n",
    "    n_steps += 1\n",
    "  tic = time.time()\n",
    "  renderer.update_scene(data, \"fixed\")\n",
    "  frame = renderer.render()\n",
    "  render_time += time.time() - tic\n",
    "  frames.append(frame)\n",
    "\n",
    "# print timing and play video\n",
    "step_time = 1e6*sim_time/n_steps\n",
    "step_fps = n_steps/sim_time\n",
    "print(f'simulation: {step_time:5.3g} μs/step  ({step_fps:5.0f}Hz)')\n",
    "frame_time = 1e6*render_time/n_frames\n",
    "frame_fps = n_frames/render_time\n",
    "print(f'rendering:  {frame_time:5.3g} μs/frame ({frame_fps:5.0f}Hz)')\n",
    "print('\\n')\n",
    "\n",
    "# show video\n",
    "media.show_video(frames, fps=framerate)"
   ]
  },
  {
   "cell_type": "markdown",
   "metadata": {
    "id": "Iqi_m8HT-X5k"
   },
   "source": [
    "Note that rendering is **much** slower than the simulated physics.\n",
    "\n",
    "## Chaos\n",
    "This is a [chaotic](https://en.wikipedia.org/wiki/Chaos_theory) system (small pertubations in initial conditions accumulate quickly):"
   ]
  },
  {
   "cell_type": "code",
   "execution_count": null,
   "metadata": {
    "id": "Pa_19EfvOzzg"
   },
   "outputs": [],
   "source": [
    "PERTURBATION = 1e-7\n",
    "SIM_DURATION = 10 # seconds\n",
    "NUM_REPEATS = 8\n",
    "\n",
    "# preallocate\n",
    "n_steps = int(SIM_DURATION / model.opt.timestep)\n",
    "sim_time = np.zeros(n_steps)\n",
    "angle = np.zeros(n_steps)\n",
    "energy = np.zeros(n_steps)\n",
    "\n",
    "# prepare plotting axes\n",
    "_, ax = plt.subplots(2, 1, figsize=(8, 6), sharex=True)\n",
    "\n",
    "# simulate NUM_REPEATS times with slightly different initial conditions\n",
    "for _ in range(NUM_REPEATS):\n",
    "  # initialize\n",
    "  mujoco.mj_resetData(model, data)\n",
    "  data.qvel[0] = 10 # root joint velocity\n",
    "  # perturb initial velocities\n",
    "  data.qvel[:] += PERTURBATION * np.random.randn(model.nv)\n",
    "\n",
    "  # simulate\n",
    "  for i in range(n_steps):\n",
    "    mujoco.mj_step(model, data)\n",
    "    sim_time[i] = data.time\n",
    "    angle[i] = data.joint('root').qpos\n",
    "    energy[i] = data.energy[0] + data.energy[1]\n",
    "\n",
    "  # plot\n",
    "  ax[0].plot(sim_time, angle)\n",
    "  ax[1].plot(sim_time, energy)\n",
    "\n",
    "# finalize plot\n",
    "ax[0].set_title('root angle')\n",
    "ax[0].set_ylabel('radian')\n",
    "ax[1].set_title('total energy')\n",
    "ax[1].set_ylabel('Joule')\n",
    "ax[1].set_xlabel('second')\n",
    "plt.tight_layout()"
   ]
  },
  {
   "cell_type": "markdown",
   "metadata": {
    "id": "daSIA_ewFGxV"
   },
   "source": [
    "## Timestep and accuracy\n",
    "**Question:** Why is the energy varying at all? There is no friction or damping, this system should conserve energy.\n",
    "\n",
    "**Answer:** Because of the discretization of time.\n",
    "\n",
    "If we decrease the timestep we'll get better accuracy and better energy conservation:"
   ]
  },
  {
   "cell_type": "code",
   "execution_count": null,
   "metadata": {
    "id": "4z-7KN_fFme-"
   },
   "outputs": [],
   "source": [
    "SIM_DURATION = 10 # (seconds)\n",
    "TIMESTEPS = np.power(10, np.linspace(-2, -4, 5))\n",
    "\n",
    "# prepare plotting axes\n",
    "_, ax = plt.subplots(1, 1)\n",
    "\n",
    "for dt in TIMESTEPS:\n",
    "   # set timestep, print\n",
    "  model.opt.timestep = dt\n",
    "\n",
    "  # allocate\n",
    "  n_steps = int(SIM_DURATION / model.opt.timestep)\n",
    "  sim_time = np.zeros(n_steps)\n",
    "  energy = np.zeros(n_steps)\n",
    "\n",
    "  # initialize\n",
    "  mujoco.mj_resetData(model, data)\n",
    "  data.qvel[0] = 9 # root joint velocity\n",
    "\n",
    "  # simulate\n",
    "  print('{} steps at dt = {:2.2g}ms'.format(n_steps, 1000*dt))\n",
    "  for i in range(n_steps):\n",
    "    mujoco.mj_step(model, data)\n",
    "    sim_time[i] = data.time\n",
    "    energy[i] = data.energy[0] + data.energy[1]\n",
    "\n",
    "  # plot\n",
    "  ax.plot(sim_time, energy, label='timestep = {:2.2g}ms'.format(1000*dt))\n",
    "\n",
    "# finalize plot\n",
    "ax.set_title('energy')\n",
    "ax.set_ylabel('Joule')\n",
    "ax.set_xlabel('second')\n",
    "ax.legend(frameon=True);\n",
    "plt.tight_layout()"
   ]
  },
  {
   "cell_type": "markdown",
   "metadata": {
    "id": "jsVkUm7QKb9I"
   },
   "source": [
    "## Timestep and divergence\n",
    "When we increase the time step, the simulation quickly diverges:"
   ]
  },
  {
   "cell_type": "code",
   "execution_count": null,
   "metadata": {
    "id": "FbdUA4zDPbDP"
   },
   "outputs": [],
   "source": [
    "SIM_DURATION = 10 # (seconds)\n",
    "TIMESTEPS = np.power(10, np.linspace(-2, -1.5, 7))\n",
    "\n",
    "# get plotting axes\n",
    "ax = plt.gca()\n",
    "\n",
    "for dt in TIMESTEPS:\n",
    "  # set timestep\n",
    "  model.opt.timestep = dt\n",
    "\n",
    "  # allocate\n",
    "  n_steps = int(SIM_DURATION / model.opt.timestep)\n",
    "  sim_time = np.zeros(n_steps)\n",
    "  energy = np.zeros(n_steps) * np.nan\n",
    "  speed = np.zeros(n_steps) * np.nan\n",
    "\n",
    "  # initialize\n",
    "  mujoco.mj_resetData(model, data)\n",
    "  data.qvel[0] = 11 # set root joint velocity\n",
    "\n",
    "  # simulate\n",
    "  print('simulating {} steps at dt = {:2.2g}ms'.format(n_steps, 1000*dt))\n",
    "  for i in range(n_steps):\n",
    "    mujoco.mj_step(model, data)\n",
    "    if data.warning.number.any():\n",
    "      warning_index = np.nonzero(data.warning.number)[0]\n",
    "      warning = mujoco.mjtWarning(warning_index).name\n",
    "      print(f'stopped due to divergence ({warning}) at timestep {i}.\\n')\n",
    "      break\n",
    "    sim_time[i] = data.time\n",
    "    energy[i] = sum(abs(data.qvel))\n",
    "    speed[i] = np.linalg.norm(data.qvel)\n",
    "\n",
    "  # plot\n",
    "  ax.plot(sim_time, energy, label='timestep = {:2.2g}ms'.format(1000*dt))\n",
    "  ax.set_yscale('log')\n",
    "\n",
    "\n",
    "# finalize plot\n",
    "ax.set_ybound(1, 1e3)\n",
    "ax.set_title('energy')\n",
    "ax.set_ylabel('Joule')\n",
    "ax.set_xlabel('second')\n",
    "ax.legend(frameon=True, loc='lower right');\n",
    "plt.tight_layout()\n"
   ]
  },
  {
   "cell_type": "markdown",
   "metadata": {
    "id": "FITYfGyy3XPL"
   },
   "source": [
    "# Contacts\n",
    "\n",
    "Let's go back to our box and sphere example and give it a free joint:"
   ]
  },
  {
   "cell_type": "code",
   "execution_count": null,
   "metadata": {
    "id": "2n1VNVv_FkbB"
   },
   "outputs": [],
   "source": [
    "free_body_MJCF = \"\"\"\n",
    "<mujoco>\n",
    "  <asset>\n",
    "    <texture name=\"grid\" type=\"2d\" builtin=\"checker\" rgb1=\".1 .2 .3\" \n",
    "    rgb2=\".2 .3 .4\" width=\"300\" height=\"300\" mark=\"edge\" markrgb=\".2 .3 .4\"/>\n",
    "    <material name=\"grid\" texture=\"grid\" texrepeat=\"2 2\" texuniform=\"true\"\n",
    "    reflectance=\".2\"/>\n",
    "  </asset>\n",
    "\n",
    "  <worldbody>\n",
    "    <light pos=\"0 0 1\" mode=\"trackcom\"/>\n",
    "    <geom name=\"ground\" type=\"plane\" pos=\"0 0 -.5\" size=\"2 2 .1\" material=\"grid\" solimp=\".99 .99 .01\" solref=\".001 1\"/>\n",
    "    <body name=\"box_and_sphere\" pos=\"0 0 0\">\n",
    "      <freejoint/>\n",
    "      <geom name=\"red_box\" type=\"box\" size=\".1 .1 .1\" rgba=\"1 0 0 1\" solimp=\".99 .99 .01\"  solref=\".001 1\"/>\n",
    "      <geom name=\"green_sphere\" size=\".06\" pos=\".1 .1 .1\" rgba=\"0 1 0 1\"/>\n",
    "      <camera name=\"fixed\" pos=\"0 -.6 .3\" xyaxes=\"1 0 0 0 1 2\"/>\n",
    "      <camera name=\"track\" pos=\"0 -.6 .3\" xyaxes=\"1 0 0 0 1 2\" mode=\"track\"/>\n",
    "    </body>\n",
    "  </worldbody>\n",
    "</mujoco>\n",
    "\"\"\"\n",
    "model = mujoco.MjModel.from_xml_string(free_body_MJCF)\n",
    "renderer = mujoco.Renderer(model, 400, 600)\n",
    "data = mujoco.MjData(model)\n",
    "mujoco.mj_forward(model, data)\n",
    "renderer.update_scene(data, \"fixed\")\n",
    "media.show_image(renderer.render())"
   ]
  },
  {
   "cell_type": "markdown",
   "metadata": {
    "id": "Z2amdQCn8REu"
   },
   "source": [
    "Let render this body rolling on the floor, in slow-motion, while visualizing contact points and forces:"
   ]
  },
  {
   "cell_type": "code",
   "execution_count": null,
   "metadata": {
    "id": "HlRhFs_d3WLP"
   },
   "outputs": [],
   "source": [
    "n_frames = 200\n",
    "height = 240\n",
    "width = 320\n",
    "frames = []\n",
    "renderer = mujoco.Renderer(model, height, width)\n",
    "\n",
    "# visualize contact frames and forces, make body transparent\n",
    "options = mujoco.MjvOption()\n",
    "mujoco.mjv_defaultOption(options)\n",
    "options.flags[mujoco.mjtVisFlag.mjVIS_CONTACTPOINT] = True\n",
    "options.flags[mujoco.mjtVisFlag.mjVIS_CONTACTFORCE] = True\n",
    "options.flags[mujoco.mjtVisFlag.mjVIS_TRANSPARENT] = True\n",
    "\n",
    "# tweak scales of contact visualization elements\n",
    "model.vis.scale.contactwidth = 0.1\n",
    "model.vis.scale.contactheight = 0.03\n",
    "model.vis.scale.forcewidth = 0.05\n",
    "model.vis.map.force = 0.3\n",
    "\n",
    "# random initial rotational velocity:\n",
    "mujoco.mj_resetData(model, data)\n",
    "data.qvel[3:6] = 5*np.random.randn(3)\n",
    "\n",
    "# simulate and render\n",
    "for i in range(n_frames):\n",
    "  while data.time < i/120.0: #1/4x real time\n",
    "    mujoco.mj_step(model, data)\n",
    "  renderer.update_scene(data, \"track\", options)\n",
    "  frame = renderer.render()\n",
    "  frames.append(frame)\n",
    "\n",
    "# show video\n",
    "media.show_video(frames, fps=30)"
   ]
  },
  {
   "cell_type": "markdown",
   "metadata": {
    "id": "_181TbtVSMBl"
   },
   "source": [
    "## Analysis of contact forces\n",
    "\n",
    "Let's rerun the above simulation (with a different random initial condition) and\n",
    "plot some values related to the contacts"
   ]
  },
  {
   "cell_type": "code",
   "execution_count": null,
   "metadata": {
    "id": "BMqyWeHki8Eg"
   },
   "outputs": [],
   "source": [
    "n_steps = 499\n",
    "\n",
    "# allocate\n",
    "sim_time = np.zeros(n_steps)\n",
    "ncon = np.zeros(n_steps)\n",
    "force = np.zeros((n_steps,3))\n",
    "velocity = np.zeros((n_steps, model.nv))\n",
    "penetration = np.zeros(n_steps)\n",
    "acceleration = np.zeros((n_steps, model.nv))\n",
    "forcetorque = np.zeros(6)\n",
    "\n",
    "# random initial rotational velocity:\n",
    "mujoco.mj_resetData(model, data)\n",
    "data.qvel[3:6] = 2*np.random.randn(3)\n",
    "\n",
    "# simulate and save data\n",
    "for i in range(n_steps):\n",
    "  mujoco.mj_step(model, data)\n",
    "  sim_time[i] = data.time\n",
    "  ncon[i] = data.ncon\n",
    "  velocity[i] = data.qvel[:]\n",
    "  acceleration[i] = data.qacc[:]\n",
    "  # iterate over active contacts, save force and distance\n",
    "  for j,c in enumerate(data.contact):\n",
    "    mujoco.mj_contactForce(model, data, j, forcetorque)\n",
    "    force[i] += forcetorque[0:3]\n",
    "    penetration[i] = min(penetration[i], c.dist)\n",
    "  # we could also do\n",
    "  # force[i] += data.qfrc_constraint[0:3]\n",
    "  # do you see why?\n",
    "\n",
    "# plot\n",
    "_, ax = plt.subplots(3, 2, sharex=True, figsize=(10, 10))\n",
    "\n",
    "lines = ax[0,0].plot(sim_time, force)\n",
    "ax[0,0].set_title('contact force')\n",
    "ax[0,0].set_ylabel('Newton')\n",
    "ax[0,0].legend(iter(lines), ('normal z', 'friction x', 'friction y'));\n",
    "\n",
    "ax[1,0].plot(sim_time, acceleration)\n",
    "ax[1,0].set_title('acceleration')\n",
    "ax[1,0].set_ylabel('(meter,radian)/s/s')\n",
    "\n",
    "ax[2,0].plot(sim_time, velocity)\n",
    "ax[2,0].set_title('velocity')\n",
    "ax[2,0].set_ylabel('(meter,radian)/s')\n",
    "ax[2,0].set_xlabel('second')\n",
    "\n",
    "ax[0,1].plot(sim_time, ncon)\n",
    "ax[0,1].set_title('number of contacts')\n",
    "ax[0,1].set_yticks(range(6))\n",
    "\n",
    "ax[1,1].plot(sim_time, force[:,0])\n",
    "ax[1,1].set_yscale('log')\n",
    "ax[1,1].set_title('normal (z) force - log scale')\n",
    "ax[1,1].set_ylabel('Newton')\n",
    "z_gravity = -model.opt.gravity[2]\n",
    "mg = model.body(\"box_and_sphere\").mass[0] * z_gravity\n",
    "mg_line = ax[1,1].plot(sim_time, np.ones(n_steps)*mg, label='m*g', linewidth=1)\n",
    "ax[1,1].legend()\n",
    "\n",
    "ax[2,1].plot(sim_time, 1000*penetration)\n",
    "ax[2,1].set_title('penetration depth')\n",
    "ax[2,1].set_ylabel('millimeter')\n",
    "ax[2,1].set_xlabel('second')\n",
    "\n",
    "plt.tight_layout()"
   ]
  },
  {
   "cell_type": "markdown",
   "metadata": {
    "id": "zV5PkYzFXu42"
   },
   "source": [
    "## Friction\n",
    "\n",
    "Let's see the effect of changing friction values"
   ]
  },
  {
   "cell_type": "code",
   "execution_count": null,
   "metadata": {
    "id": "2R_gKoYyXwda"
   },
   "outputs": [],
   "source": [
    "MJCF = \"\"\"\n",
    "<mujoco>\n",
    "  <asset>\n",
    "    <texture name=\"grid\" type=\"2d\" builtin=\"checker\" rgb1=\".1 .2 .3\"\n",
    "     rgb2=\".2 .3 .4\" width=\"300\" height=\"300\" mark=\"none\"/>\n",
    "    <material name=\"grid\" texture=\"grid\" texrepeat=\"6 6\"\n",
    "     texuniform=\"true\" reflectance=\".2\"/>\n",
    "     <material name=\"wall\" rgba='.5 .5 .5 1'/>\n",
    "  </asset>\n",
    "\n",
    "  <default>\n",
    "    <geom type=\"box\" size=\".05 .05 .05\" />\n",
    "    <joint type=\"free\"/>\n",
    "  </default>\n",
    "\n",
    "  <worldbody>\n",
    "    <light name=\"light\" pos=\"-.2 0 1\"/>\n",
    "    <geom name=\"ground\" type=\"plane\" size=\".5 .5 10\" material=\"grid\"\n",
    "     zaxis=\"-.3 0 1\" friction=\".1\"/> \n",
    "    <camera name=\"y\" pos=\"-.1 -.6 .3\" xyaxes=\"1 0 0 0 1 2\"/>\n",
    "    <body pos=\"0 0 .1\">\n",
    "      <joint/>\n",
    "      <geom/>\n",
    "    </body>\n",
    "    <body pos=\"0 .2 .1\">\n",
    "      <joint/>\n",
    "      <geom friction=\".33\"/>\n",
    "    </body>\n",
    "  </worldbody>\n",
    "\n",
    "</mujoco>\n",
    "\"\"\"\n",
    "n_frames = 60\n",
    "height = 300\n",
    "width = 300\n",
    "frames = []\n",
    "\n",
    "# load\n",
    "model = mujoco.MjModel.from_xml_string(MJCF)\n",
    "data = mujoco.MjData(model)\n",
    "renderer = mujoco.Renderer(model, height, width)\n",
    "\n",
    "# simulate and render\n",
    "mujoco.mj_resetData(model, data)\n",
    "for i in range(n_frames):\n",
    "  while data.time < i/30.0:\n",
    "    mujoco.mj_step(model, data)\n",
    "  renderer.update_scene(data, \"y\")\n",
    "  frame = renderer.render()\n",
    "  frames.append(frame)\n",
    "media.show_video(frames, fps=30)"
   ]
  },
  {
   "cell_type": "markdown",
   "metadata": {
    "id": "ArmmaPqGP6W7"
   },
   "source": [
    "# Tendons, actuators and sensors"
   ]
  },
  {
   "cell_type": "code",
   "execution_count": null,
   "metadata": {
    "id": "VJz84c97c8Df"
   },
   "outputs": [],
   "source": [
    "MJCF = \"\"\"\n",
    "<mujoco>\n",
    "  <asset>\n",
    "    <texture name=\"grid\" type=\"2d\" builtin=\"checker\" rgb1=\".1 .2 .3\"\n",
    "     rgb2=\".2 .3 .4\" width=\"300\" height=\"300\" mark=\"none\"/>\n",
    "    <material name=\"grid\" texture=\"grid\" texrepeat=\"1 1\"\n",
    "     texuniform=\"true\" reflectance=\".2\"/>\n",
    "  </asset>\n",
    "\n",
    "  <worldbody>\n",
    "    <light name=\"light\" pos=\"0 0 1\"/>\n",
    "    <geom name=\"floor\" type=\"plane\" pos=\"0 0 -.5\" size=\"2 2 .1\" material=\"grid\"/>\n",
    "    <site name=\"anchor\" pos=\"0 0 .3\" size=\".01\"/>\n",
    "    <camera name=\"fixed\" pos=\"0 -1.3 .5\" xyaxes=\"1 0 0 0 1 2\"/>\n",
    "\n",
    "    <geom name=\"pole\" type=\"cylinder\" fromto=\".3 0 -.5 .3 0 -.1\" size=\".04\"/>\n",
    "    <body name=\"bat\" pos=\".3 0 -.1\">\n",
    "      <joint name=\"swing\" type=\"hinge\" damping=\"1\" axis=\"0 0 1\"/>\n",
    "      <geom name=\"bat\" type=\"capsule\" fromto=\"0 0 .04 0 -.3 .04\"\n",
    "       size=\".04\" rgba=\"0 0 1 1\"/>\n",
    "    </body>\n",
    "\n",
    "    <body name=\"box_and_sphere\" pos=\"0 0 0\">\n",
    "      <joint name=\"free\" type=\"free\"/>\n",
    "      <geom name=\"red_box\" type=\"box\" size=\".1 .1 .1\" rgba=\"1 0 0 1\"/>\n",
    "      <geom name=\"green_sphere\"  size=\".06\" pos=\".1 .1 .1\" rgba=\"0 1 0 1\"/>\n",
    "      <site name=\"hook\" pos=\"-.1 -.1 -.1\" size=\".01\"/>\n",
    "      <site name=\"IMU\"/>\n",
    "    </body>\n",
    "  </worldbody>\n",
    "\n",
    "  <tendon>\n",
    "    <spatial name=\"wire\" limited=\"true\" range=\"0 0.35\" width=\"0.003\">\n",
    "      <site site=\"anchor\"/>\n",
    "      <site site=\"hook\"/>\n",
    "    </spatial>\n",
    "  </tendon>\n",
    "\n",
    "  <actuator>\n",
    "    <motor name=\"my_motor\" joint=\"swing\" gear=\"1\"/>\n",
    "  </actuator>\n",
    "\n",
    "  <sensor>\n",
    "    <accelerometer name=\"accelerometer\" site=\"IMU\"/>\n",
    "  </sensor>\n",
    "</mujoco>\n",
    "\"\"\"\n",
    "model = mujoco.MjModel.from_xml_string(MJCF)\n",
    "renderer = mujoco.Renderer(model, 480, 480)\n",
    "data = mujoco.MjData(model)\n",
    "mujoco.mj_forward(model, data)\n",
    "renderer.update_scene(data, \"fixed\")\n",
    "media.show_image(renderer.render())\n"
   ]
  },
  {
   "cell_type": "markdown",
   "metadata": {
    "id": "u8z2vrOr_RVD"
   },
   "source": [
    "actuated bat and passive \"piñata\":"
   ]
  },
  {
   "cell_type": "code",
   "execution_count": null,
   "metadata": {
    "id": "z-zoBCuBv2Xi"
   },
   "outputs": [],
   "source": [
    "n_frames = 180\n",
    "height = 240\n",
    "width = 320\n",
    "frames = []\n",
    "fps = 60.0\n",
    "times = []\n",
    "sensordata = []\n",
    "\n",
    "renderer = mujoco.Renderer(model, height, width)\n",
    "\n",
    "# constant actuator signal\n",
    "mujoco.mj_resetData(model, data)\n",
    "data.ctrl = 20\n",
    "\n",
    "# simulate and render\n",
    "for i in range(n_frames):\n",
    "  while data.time < i/fps:\n",
    "    mujoco.mj_step(model, data)\n",
    "    times.append(data.time)\n",
    "    sensordata.append(data.sensor('accelerometer').data.copy())\n",
    "  renderer.update_scene(data, \"fixed\")\n",
    "  frame = renderer.render()\n",
    "  frames.append(frame)\n",
    "\n",
    "media.show_video(frames, fps=fps)"
   ]
  },
  {
   "cell_type": "markdown",
   "metadata": {
    "id": "gwHMy_iRA7Jh"
   },
   "source": [
    "Let's plot the values measured by our accelerometer sensor:"
   ]
  },
  {
   "cell_type": "code",
   "execution_count": null,
   "metadata": {
    "id": "uy4wSEMAAJgn"
   },
   "outputs": [],
   "source": [
    "ax = plt.gca()\n",
    "\n",
    "ax.plot(np.asarray(times), np.asarray(sensordata), label='timestep = {:2.2g}ms'.format(1000*dt))\n",
    "\n",
    "# finalize plot\n",
    "ax.set_title('Accelerometer values')\n",
    "ax.set_ylabel('meter/second^2')\n",
    "ax.set_xlabel('second')\n",
    "ax.legend(frameon=True, loc='lower right');\n",
    "plt.tight_layout()"
   ]
  },
  {
   "cell_type": "markdown",
   "metadata": {
    "id": "0YKSTtJ_BQ7x"
   },
   "source": [
    "Note how the moments when the body is hit by the bat are clearly visible in the accelerometer measurements."
   ]
  },
  {
   "cell_type": "markdown",
   "metadata": {
    "id": "1kOs1wTc7uCZ"
   },
   "source": [
    "# Advanced rendering\n",
    "\n",
    "Like joint visualization, additional rendering options are exposed as parameters to the `render` method.\n",
    "\n",
    "Let's bring back our first model:"
   ]
  },
  {
   "cell_type": "code",
   "execution_count": null,
   "metadata": {
    "id": "mTDgsk2xcgwH"
   },
   "outputs": [],
   "source": [
    "xml = \"\"\"\n",
    "<mujoco>\n",
    "  <worldbody>\n",
    "    <light name=\"top\" pos=\"0 0 1\"/>\n",
    "    <body name=\"box_and_sphere\" euler=\"0 0 -30\">\n",
    "      <joint name=\"swing\" type=\"hinge\" axis=\"1 -1 0\" pos=\"-.2 -.2 -.2\"/>\n",
    "      <geom name=\"red_box\" type=\"box\" size=\".2 .2 .2\" rgba=\"1 0 0 1\"/>\n",
    "      <geom name=\"green_sphere\" pos=\".2 .2 .2\" size=\".1\" rgba=\"0 1 0 1\"/>\n",
    "    </body>\n",
    "  </worldbody>\n",
    "</mujoco>\n",
    "\"\"\"\n",
    "model = mujoco.MjModel.from_xml_string(xml)\n",
    "renderer = mujoco.Renderer(model)\n",
    "data = mujoco.MjData(model)\n",
    "\n",
    "mujoco.mj_forward(model, data)\n",
    "renderer.update_scene(data)\n",
    "media.show_image(renderer.render())"
   ]
  },
  {
   "cell_type": "code",
   "execution_count": null,
   "metadata": {
    "id": "VePXamL_6XUc"
   },
   "outputs": [],
   "source": [
    "#@title Enable transparency and frame visualization\n",
    "\n",
    "scene_option.frame = mujoco.mjtFrame.mjFRAME_GEOM\n",
    "scene_option.flags[mujoco.mjtVisFlag.mjVIS_TRANSPARENT] = True\n",
    "renderer.update_scene(data, scene_option=scene_option)\n",
    "frame = renderer.render()\n",
    "media.show_image(frame)"
   ]
  },
  {
   "cell_type": "code",
   "execution_count": null,
   "metadata": {
    "id": "PVcpcvww9lZ8"
   },
   "outputs": [],
   "source": [
    "#@title Depth rendering\n",
    "\n",
    "# update renderer to render depth\n",
    "renderer.enable_depth_rendering()\n",
    "\n",
    "# reset the scene\n",
    "renderer.update_scene(data)\n",
    "\n",
    "# depth is a float array, in meters.\n",
    "depth = renderer.render()\n",
    "\n",
    "# Shift nearest values to the origin.\n",
    "depth -= depth.min()\n",
    "# Scale by 2 mean distances of near rays.\n",
    "depth /= 2*depth[depth <= 1].mean()\n",
    "# Scale to [0, 255]\n",
    "pixels = 255*np.clip(depth, 0, 1)\n",
    "\n",
    "media.show_image(pixels.astype(np.uint8))\n",
    "\n",
    "renderer.disable_depth_rendering()"
   ]
  },
  {
   "cell_type": "code",
   "execution_count": null,
   "metadata": {
    "id": "PNwiIrgpx7T8"
   },
   "outputs": [],
   "source": [
    "#@title Segmentation rendering\n",
    "\n",
    "# update renderer to render segmentation\n",
    "renderer.enable_segmentation_rendering()\n",
    "\n",
    "# reset the scene\n",
    "renderer.update_scene(data)\n",
    "\n",
    "seg = renderer.render()\n",
    "\n",
    "# Display the contents of the first channel, which contains object\n",
    "# IDs. The second channel, seg[:, :, 1], contains object types.\n",
    "geom_ids = seg[:, :, 0]\n",
    "# Infinity is mapped to -1\n",
    "geom_ids = geom_ids.astype(np.float64) + 1\n",
    "# Scale to [0, 1]\n",
    "geom_ids = geom_ids / geom_ids.max()\n",
    "pixels = 255*geom_ids\n",
    "media.show_image(pixels.astype(np.uint8))\n",
    "\n",
    "renderer.disable_segmentation_rendering()"
   ]
  },
  {
   "cell_type": "markdown",
   "metadata": {
    "id": "wo72mo0mGIXr"
   },
   "source": [
    "## The camera matrix\n",
    "\n",
    "For a description of the camera matrix see the article [Camera matrix](https://en.wikipedia.org/wiki/Camera_matrix) on Wikipedia."
   ]
  },
  {
   "cell_type": "code",
   "execution_count": null,
   "metadata": {
    "id": "sDYwClpxaxab"
   },
   "outputs": [],
   "source": [
    "def compute_camera_matrix(renderer, data):\n",
    "  \"\"\"Returns the 3x4 camera matrix.\"\"\"\n",
    "  # If the camera is a 'free' camera, we get its position and orientation\n",
    "  # from the scene data structure. It is a stereo camera, so we average over\n",
    "  # the left and right channels. Note: we call `self.update()` in order to\n",
    "  # ensure that the contents of `scene.camera` are correct.\n",
    "  renderer.update_scene(data)\n",
    "  pos = np.mean([camera.pos for camera in renderer.scene.camera], axis=0)\n",
    "  z = -np.mean([camera.forward for camera in renderer.scene.camera], axis=0)\n",
    "  y = np.mean([camera.up for camera in renderer.scene.camera], axis=0)\n",
    "  rot = np.vstack((np.cross(y, z), y, z))\n",
    "  fov = model.vis.global_.fovy\n",
    "\n",
    "  # Translation matrix (4x4).\n",
    "  translation = np.eye(4)\n",
    "  translation[0:3, 3] = -pos\n",
    "\n",
    "  # Rotation matrix (4x4).\n",
    "  rotation = np.eye(4)\n",
    "  rotation[0:3, 0:3] = rot\n",
    "\n",
    "  # Focal transformation matrix (3x4).\n",
    "  focal_scaling = (1./np.tan(np.deg2rad(fov)/2)) * renderer.height / 2.0\n",
    "  focal = np.diag([-focal_scaling, focal_scaling, 1.0, 0])[0:3, :]\n",
    "\n",
    "  # Image matrix (3x3).\n",
    "  image = np.eye(3)\n",
    "  image[0, 2] = (renderer.width - 1) / 2.0\n",
    "  image[1, 2] = (renderer.height - 1) / 2.0\n",
    "  return image @ focal @ rotation @ translation"
   ]
  },
  {
   "cell_type": "markdown",
   "metadata": {
    "id": "Bs89vS0wLoU0"
   },
   "source": [
    "Let's use the camera matrix to project from world to camera coordinates:"
   ]
  },
  {
   "cell_type": "code",
   "execution_count": null,
   "metadata": {
    "id": "My0N4_7PDJ_q"
   },
   "outputs": [],
   "source": [
    "# reset the scene\n",
    "renderer.update_scene(data)\n",
    "\n",
    "\n",
    "# Get the world coordinates of the box corners\n",
    "box_pos = data.geom_xpos[model.geom('red_box').id]\n",
    "box_mat = data.geom_xmat[model.geom('red_box').id].reshape(3, 3)\n",
    "box_size = model.geom_size[model.geom('red_box').id]\n",
    "offsets = np.array([-1, 1]) * box_size[:, None]\n",
    "xyz_local = np.stack(list(itertools.product(*offsets))).T\n",
    "xyz_global = box_pos[:, None] + box_mat @ xyz_local\n",
    "\n",
    "# Camera matrices multiply homogenous [x, y, z, 1] vectors.\n",
    "corners_homogeneous = np.ones((4, xyz_global.shape[1]), dtype=float)\n",
    "corners_homogeneous[:3, :] = xyz_global\n",
    "\n",
    "# Get the camera matrix.\n",
    "m = compute_camera_matrix(renderer, data)\n",
    "\n",
    "# Project world coordinates into pixel space. See:\n",
    "# https://en.wikipedia.org/wiki/3D_projection#Mathematical_formula\n",
    "xs, ys, s = m @ corners_homogeneous\n",
    "# x and y are in the pixel coordinate system.\n",
    "x = xs / s\n",
    "y = ys / s\n",
    "\n",
    "# Render the camera view and overlay the projected corner coordinates.\n",
    "pixels = renderer.render()\n",
    "fig, ax = plt.subplots(1, 1)\n",
    "ax.imshow(pixels)\n",
    "ax.plot(x, y, '+', c='w')\n",
    "ax.set_axis_off()"
   ]
  },
  {
   "cell_type": "markdown",
   "metadata": {
    "id": "AGm5-e0sHEAF"
   },
   "source": [
    "## Modifying the scene\n",
    "\n",
    "Let's add some arbitrary geometry to the `mjvScene`."
   ]
  },
  {
   "cell_type": "code",
   "execution_count": null,
   "metadata": {
    "id": "Z6NDYJ8IOVt7"
   },
   "outputs": [],
   "source": [
    "def get_geom_speed(model, data, geom_name):\n",
    "  \"\"\"Returns the speed of a geom.\"\"\"\n",
    "  geom_vel = np.zeros(6)\n",
    "  geom_type = mujoco.mjtObj.mjOBJ_GEOM\n",
    "  geom_id = data.geom(geom_name).id\n",
    "  mujoco.mj_objectVelocity(model, data, geom_type, geom_id, geom_vel, 0)\n",
    "  return np.linalg.norm(geom_vel)\n",
    "\n",
    "def add_visual_capsule(scene, point1, point2, radius, rgba):\n",
    "  \"\"\"Adds one capsule to an mjvScene.\"\"\"\n",
    "  if scene.ngeom >= scene.maxgeom:\n",
    "    return\n",
    "  scene.ngeom += 1  # increment ngeom\n",
    "  # initialise a new capsule, add it to the scene using mjv_makeConnector\n",
    "  mujoco.mjv_initGeom(scene.geoms[scene.ngeom-1],\n",
    "                      mujoco.mjtGeom.mjGEOM_CAPSULE, np.zeros(3),\n",
    "                      np.zeros(3), np.zeros(9), rgba.astype(np.float32))\n",
    "  mujoco.mjv_makeConnector(scene.geoms[scene.ngeom-1],\n",
    "                           mujoco.mjtGeom.mjGEOM_CAPSULE, radius,\n",
    "                           point1[0], point1[1], point1[2],\n",
    "                           point2[0], point2[1], point2[2])\n",
    "\n",
    " # traces of time, position and speed\n",
    "times = []\n",
    "positions = []\n",
    "speeds = []\n",
    "offset = model.jnt_axis[0]/8  # offset along the joint axis\n",
    "\n",
    "def modify_scene(scn):\n",
    "  \"\"\"Draw position trace, speed modifies width and colors.\"\"\"\n",
    "  if len(positions) > 1:\n",
    "    for i in range(len(positions)-1):\n",
    "      rgba=np.array((np.clip(speeds[i]/10, 0, 1),\n",
    "                     np.clip(1-speeds[i]/10, 0, 1),\n",
    "                     .5, 1.))\n",
    "      radius=.003*(1+speeds[i])\n",
    "      point1 = positions[i] + offset*times[i]\n",
    "      point2 = positions[i+1] + offset*times[i+1]\n",
    "      add_visual_capsule(scn, point1, point2, radius, rgba)\n",
    "\n",
    "duration = 6    # (seconds)\n",
    "framerate = 30  # (Hz)\n",
    "\n",
    "# Simulate and display video.\n",
    "frames = []\n",
    "\n",
    "# Reset state and time.\n",
    "mujoco.mj_resetData(model, data)\n",
    "mujoco.mj_forward(model, data)\n",
    "\n",
    "while data.time < duration:\n",
    "  # append data to the traces\n",
    "  positions.append(data.geom_xpos[data.geom(\"green_sphere\").id].copy())\n",
    "  times.append(data.time)\n",
    "  speeds.append(get_geom_speed(model, data, \"green_sphere\"))\n",
    "  mujoco.mj_step(model, data)\n",
    "  if len(frames) < data.time * framerate:\n",
    "    renderer.update_scene(data)\n",
    "    modify_scene(renderer.scene)\n",
    "    pixels = renderer.render()\n",
    "    frames.append(pixels)\n",
    "media.show_video(frames, fps=framerate)"
   ]
  }
 ],
 "metadata": {
  "accelerator": "GPU",
  "colab": {
   "collapsed_sections": [
    "-re3Szx-1Ias"
   ],
   "private_outputs": true,
   "provenance": [],
   "toc_visible": true
  },
  "gpuClass": "premium",
  "kernelspec": {
   "display_name": "Python 3 (ipykernel)",
   "language": "python",
   "name": "python3"
  },
  "language_info": {
   "codemirror_mode": {
    "name": "ipython",
    "version": 3
   },
   "file_extension": ".py",
   "mimetype": "text/x-python",
   "name": "python",
   "nbconvert_exporter": "python",
   "pygments_lexer": "ipython3",
   "version": "3.9.16"
  }
 },
 "nbformat": 4,
 "nbformat_minor": 4
}
