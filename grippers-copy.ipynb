{
 "cells": [
  {
   "cell_type": "markdown",
   "metadata": {},
   "source": [
    "This notebook shows how to mount different grippers on different robots."
   ]
  },
  {
   "cell_type": "code",
   "execution_count": null,
   "metadata": {
    "tags": []
   },
   "outputs": [],
   "source": [
    "import robosuite as suite\n",
    "from robosuite.controllers import load_controller_config\n",
    "\n",
    "import random\n",
    "from PIL import Image\n",
    "from IPython.display import display"
   ]
  },
  {
   "cell_type": "code",
   "execution_count": null,
   "metadata": {
    "collapsed": false,
    "jupyter": {
     "outputs_hidden": false
    }
   },
   "outputs": [],
   "source": [
    "suite.ALL_GRIPPERS"
   ]
  },
  {
   "cell_type": "code",
   "execution_count": null,
   "metadata": {},
   "outputs": [],
   "source": [
    "def get_concat_h(im1, im2):\n",
    "    dst = Image.new('RGB', (im1.width + im2.width, im1.height))\n",
    "    dst.paste(im1, (0, 0))\n",
    "    dst.paste(im2, (im1.width, 0))\n",
    "    return dst"
   ]
  },
  {
   "cell_type": "code",
   "execution_count": null,
   "metadata": {
    "collapsed": false,
    "jupyter": {
     "outputs_hidden": false
    },
    "scrolled": true
   },
   "outputs": [],
   "source": [
    "for robot in ['Sawyer', 'Panda', 'Jaco', 'Kinova3', 'IIWA', 'UR5e']:\n",
    "\n",
    "    for gripper in suite.ALL_GRIPPERS:\n",
    "\n",
    "        options = dict()\n",
    "        options[\"env_name\"] = \"Lift\"\n",
    "        options[\"robots\"] = [robot]\n",
    "\n",
    "        options[\"controller_configs\"] = [\n",
    "            load_controller_config(default_controller=\"OSC_POSE\"),\n",
    "        ]\n",
    "\n",
    "        options[\"gripper_types\"] = None\n",
    "        options[\"gripper_types\"] = gripper\n",
    "\n",
    "        env = suite.make(\n",
    "            **options,\n",
    "            has_renderer=False,\n",
    "            ignore_done=True,\n",
    "            use_camera_obs=True,\n",
    "            camera_names=\"frontview\",\n",
    "        )\n",
    "\n",
    "        print(robot, gripper, '(DoF: %d)' % env.action_dim)\n",
    "\n",
    "        frontview = env.sim.render(height=256, width=256, camera_name=\"frontview\")[::-1]\n",
    "        agentview = env.sim.render(height=256, width=256, camera_name=\"agentview\")[::-1]\n",
    "        im_frontview = Image.fromarray(frontview)\n",
    "        im_agentview = Image.fromarray(agentview)\n",
    "        display(get_concat_h(im_frontview, im_agentview))"
   ]
  }
 ],
 "metadata": {
  "kernelspec": {
   "display_name": "Python 3 (ipykernel)",
   "language": "python",
   "name": "python3"
  },
  "language_info": {
   "codemirror_mode": {
    "name": "ipython",
    "version": 3
   },
   "file_extension": ".py",
   "mimetype": "text/x-python",
   "name": "python",
   "nbconvert_exporter": "python",
   "pygments_lexer": "ipython3",
   "version": "3.9.16"
  }
 },
 "nbformat": 4,
 "nbformat_minor": 4
}
