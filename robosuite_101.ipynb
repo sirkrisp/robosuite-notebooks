{
 "cells": [
  {
   "cell_type": "code",
   "execution_count": null,
   "metadata": {
    "collapsed": false,
    "jupyter": {
     "outputs_hidden": false
    }
   },
   "outputs": [],
   "source": [
    "import numpy as np\n",
    "import robosuite as suite\n",
    "\n",
    "from PIL import Image\n",
    "from IPython.display import display"
   ]
  },
  {
   "cell_type": "code",
   "execution_count": null,
   "metadata": {
    "collapsed": false,
    "jupyter": {
     "outputs_hidden": false
    }
   },
   "outputs": [],
   "source": [
    "suite.ALL_ENVIRONMENTS"
   ]
  },
  {
   "cell_type": "code",
   "execution_count": null,
   "metadata": {
    "collapsed": false,
    "jupyter": {
     "outputs_hidden": false
    }
   },
   "outputs": [],
   "source": [
    "suite.ALL_ROBOTS"
   ]
  },
  {
   "cell_type": "code",
   "execution_count": null,
   "metadata": {
    "collapsed": false,
    "jupyter": {
     "outputs_hidden": false
    }
   },
   "outputs": [],
   "source": [
    "suite.ALL_GRIPPERS"
   ]
  },
  {
   "cell_type": "code",
   "execution_count": null,
   "metadata": {
    "collapsed": false,
    "jupyter": {
     "outputs_hidden": false
    }
   },
   "outputs": [],
   "source": [
    "suite.ALL_CONTROLLERS"
   ]
  },
  {
   "cell_type": "code",
   "execution_count": null,
   "metadata": {
    "collapsed": false,
    "jupyter": {
     "outputs_hidden": false
    }
   },
   "outputs": [],
   "source": [
    "env = suite.make(\n",
    "    env_name=\"Lift\",\n",
    "    robots=\"Sawyer\",\n",
    "    has_renderer=False,\n",
    "    ignore_done=True,\n",
    "    use_camera_obs=True,\n",
    "    camera_names=[\"frontview\", \"agentview\"]\n",
    ")\n",
    "\n",
    "obs = env.reset()"
   ]
  },
  {
   "cell_type": "code",
   "execution_count": null,
   "metadata": {
    "collapsed": false,
    "jupyter": {
     "outputs_hidden": false
    }
   },
   "outputs": [],
   "source": [
    "frontview = Image.fromarray(obs['frontview_image'][::-1])\n",
    "display(frontview)"
   ]
  },
  {
   "cell_type": "code",
   "execution_count": null,
   "metadata": {
    "collapsed": false,
    "jupyter": {
     "outputs_hidden": false
    }
   },
   "outputs": [],
   "source": [
    "agentview = Image.fromarray(obs['agentview_image'][::-1])\n",
    "display(agentview)"
   ]
  },
  {
   "cell_type": "code",
   "execution_count": null,
   "metadata": {
    "collapsed": false,
    "jupyter": {
     "outputs_hidden": false
    }
   },
   "outputs": [],
   "source": [
    "low, high = env.action_spec # get action limits\n",
    "for i in range(100):\n",
    "    action = np.random.uniform(low, high) # sample random action\n",
    "    obs, reward, done, _ = env.step(action)\n",
    "\n",
    "display(Image.fromarray(obs['frontview_image'][::-1]))"
   ]
  },
  {
   "cell_type": "code",
   "execution_count": null,
   "metadata": {
    "collapsed": false,
    "jupyter": {
     "outputs_hidden": false
    }
   },
   "outputs": [],
   "source": [
    "print('number of bodies:', env.sim.model.nbody)\n",
    "print('number of joints:', env.sim.model.njnt)\n",
    "print('number of generalized coordinates:', env.sim.model.nq)\n",
    "print('number of degrees of freedom:', env.sim.model.nv)\n",
    "print('number of degrees of freedom:', env.sim.model.nu)\n",
    "print('number of activation states:', env.sim.model.na)"
   ]
  },
  {
   "cell_type": "code",
   "execution_count": null,
   "metadata": {
    "collapsed": false,
    "jupyter": {
     "outputs_hidden": false
    }
   },
   "outputs": [],
   "source": [
    "print(env.sim.model.body_names)"
   ]
  },
  {
   "cell_type": "code",
   "execution_count": null,
   "metadata": {
    "collapsed": false,
    "jupyter": {
     "outputs_hidden": false
    }
   },
   "outputs": [],
   "source": [
    "body_id = 1\n",
    "\n",
    "print(env.sim.model.body_names[body_id])\n",
    "print(env.sim.data.body_xpos[body_id])\n",
    "print(env.sim.data.body_xquat[body_id])\n",
    "\n",
    "body_id = -1\n",
    "\n",
    "print()\n",
    "print(env.sim.model.body_names[body_id])\n",
    "print('Frame origin:\\n', env.sim.data.body_xpos[body_id])\n",
    "print('\\nRotation quaternion:\\n', env.sim.data.body_xquat[body_id])\n",
    "print('\\nRotation matrix:\\n', env.sim.data.body_xmat[body_id].reshape(3,3))"
   ]
  },
  {
   "cell_type": "code",
   "execution_count": null,
   "metadata": {
    "collapsed": false,
    "jupyter": {
     "outputs_hidden": false
    }
   },
   "outputs": [],
   "source": [
    "# simple example of coordinate transformations\n",
    "import robosuite.utils.transform_utils as T\n",
    "\n",
    "T.quat2mat(T.convert_quat(np.array(env.sim.data.body_xquat[body_id]), to=\"xyzw\"))"
   ]
  },
  {
   "cell_type": "code",
   "execution_count": null,
   "metadata": {
    "collapsed": false,
    "jupyter": {
     "outputs_hidden": false
    }
   },
   "outputs": [],
   "source": [
    "env.sim.data.body_xmat[body_id].reshape(3, 3)"
   ]
  },
  {
   "cell_type": "code",
   "execution_count": null,
   "metadata": {
    "collapsed": false,
    "jupyter": {
     "outputs_hidden": false
    }
   },
   "outputs": [],
   "source": [
    "env.sim.data.body_xpos[body_id]"
   ]
  },
  {
   "cell_type": "code",
   "execution_count": null,
   "metadata": {
    "collapsed": false,
    "jupyter": {
     "outputs_hidden": false
    }
   },
   "outputs": [],
   "source": [
    "# get information of all bodies\n",
    "for i in range(env.sim.model.nbody):\n",
    "    name = env.sim.model.body_names[i]\n",
    "    body_id = env.sim.model.body_name2id(name)\n",
    "    body_xpos = env.sim.data.body_xpos[body_id]\n",
    "    print(body_id, name, body_xpos)"
   ]
  }
 ],
 "metadata": {
  "kernelspec": {
   "display_name": "Python 3",
   "language": "python",
   "name": "python3"
  },
  "language_info": {
   "codemirror_mode": {
    "name": "ipython",
    "version": 3
   },
   "file_extension": ".py",
   "mimetype": "text/x-python",
   "name": "python",
   "nbconvert_exporter": "python",
   "pygments_lexer": "ipython3",
   "version": "3.9.16"
  }
 },
 "nbformat": 4,
 "nbformat_minor": 4
}
