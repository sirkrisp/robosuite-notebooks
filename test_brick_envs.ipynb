{
 "cells": [
  {
   "cell_type": "code",
   "execution_count": null,
   "id": "e6895393-485c-4378-ba13-fdd8c78e1cc1",
   "metadata": {},
   "outputs": [],
   "source": [
    "import mujoco\n",
    "from PIL import Image\n",
    "from IPython.display import display\n",
    "import cv2\n",
    "import importlib\n",
    "import numpy as np\n",
    "\n",
    "from robosuite.models.objects import BallObject, BoxObject\n"
   ]
  },
  {
   "cell_type": "code",
   "execution_count": null,
   "id": "a4e9c17d-bc7a-48fb-88a8-b036888b8099",
   "metadata": {},
   "outputs": [],
   "source": [
    "import brick_envs.wall_env as wall_env"
   ]
  },
  {
   "cell_type": "code",
   "execution_count": null,
   "id": "57be7872-0908-4da5-b5cf-56e029e7fbb7",
   "metadata": {},
   "outputs": [],
   "source": [
    "import brick_envs.bricks_base_env as bricks_base_env"
   ]
  },
  {
   "cell_type": "code",
   "execution_count": null,
   "id": "94d5d4e0-0022-4049-9257-92d71ba6bb2b",
   "metadata": {},
   "outputs": [],
   "source": [
    "importlib.reload(wall_env)\n",
    "importlib.reload(bricks_base_env)"
   ]
  },
  {
   "cell_type": "code",
   "execution_count": null,
   "id": "5eb41ed7-df9e-4e4f-acf6-19980a29b066",
   "metadata": {},
   "outputs": [],
   "source": [
    "import yaml\n",
    "import os"
   ]
  },
  {
   "cell_type": "code",
   "execution_count": null,
   "id": "84374604-5f0b-464b-818e-f28c48743070",
   "metadata": {},
   "outputs": [],
   "source": [
    "config_path = bricks_base_env.config_path_default"
   ]
  },
  {
   "cell_type": "code",
   "execution_count": null,
   "id": "af47c9f0-23c5-4ff6-9423-f3317e6b111d",
   "metadata": {},
   "outputs": [],
   "source": [
    "with open(config_path, mode=\"rt\", encoding=\"utf-8\") as file:\n",
    "    config = yaml.safe_load(file)"
   ]
  },
  {
   "cell_type": "code",
   "execution_count": null,
   "id": "b84d1fe1-e0a1-4d8f-a815-f8061d422489",
   "metadata": {},
   "outputs": [],
   "source": [
    "config"
   ]
  },
  {
   "cell_type": "markdown",
   "id": "4535afa0-72e3-43b2-bb8e-30eee46c5cb0",
   "metadata": {},
   "source": [
    "## Wall Env"
   ]
  },
  {
   "cell_type": "code",
   "execution_count": null,
   "id": "8acb3582-3ece-48ad-ace1-bafa374059d3",
   "metadata": {},
   "outputs": [],
   "source": [
    "env = wall_env.WallEnv()"
   ]
  },
  {
   "cell_type": "code",
   "execution_count": null,
   "id": "19482000-73e2-4e15-88d5-4f15883e1c5b",
   "metadata": {},
   "outputs": [],
   "source": [
    "# o = env.step(np.zeros(8))"
   ]
  },
  {
   "cell_type": "code",
   "execution_count": null,
   "id": "ab8e19c4-8a85-4242-b3e9-f12164e543ad",
   "metadata": {},
   "outputs": [],
   "source": [
    "o = env.reset()"
   ]
  },
  {
   "cell_type": "code",
   "execution_count": null,
   "id": "5e1d038d-8353-4201-996e-9cbc731858d8",
   "metadata": {},
   "outputs": [],
   "source": [
    "env_img = env.sim.render(300, 300, camera_name=\"frontview\")\n",
    "display(Image.fromarray(cv2.rotate(env_img, cv2.ROTATE_180)))"
   ]
  },
  {
   "cell_type": "code",
   "execution_count": null,
   "id": "ab8da61e-4853-49c1-8709-c01deff3c803",
   "metadata": {},
   "outputs": [],
   "source": [
    "env.go_to_step(1)"
   ]
  },
  {
   "cell_type": "code",
   "execution_count": null,
   "id": "7ad2b7ec-e44f-4660-b2f2-f3f02932a12f",
   "metadata": {},
   "outputs": [],
   "source": [
    "env.brick_placements"
   ]
  },
  {
   "cell_type": "code",
   "execution_count": null,
   "id": "9715a17e-e870-4a21-baf2-e44ae7d2eafc",
   "metadata": {},
   "outputs": [],
   "source": [
    "env._assemble_bricks(2,(3,3),0,0,3)\n",
    "env._assemble_bricks(2,(1,0),1,0,0)"
   ]
  },
  {
   "cell_type": "code",
   "execution_count": null,
   "id": "c869b0d2-7f68-4411-a311-a009882f9824",
   "metadata": {},
   "outputs": [],
   "source": [
    "for i in range(50):\n",
    "    o = env.step(np.zeros(8))"
   ]
  },
  {
   "cell_type": "code",
   "execution_count": null,
   "id": "4a53d1db-6905-4a66-80c2-2178aa5e815e",
   "metadata": {},
   "outputs": [],
   "source": [
    "[0,0] + [1]"
   ]
  },
  {
   "cell_type": "markdown",
   "id": "a5689013-19cf-4f46-82d7-da0216b51fbd",
   "metadata": {},
   "source": [
    "## Test Texture"
   ]
  },
  {
   "cell_type": "code",
   "execution_count": null,
   "id": "10661af1-e1f8-4d0d-8bcb-44bc3563697f",
   "metadata": {},
   "outputs": [],
   "source": [
    "# add object to env\n",
    "\n",
    "def reinit_env(env):\n",
    "    # Load the model\n",
    "    # self._load_model()\n",
    "    \n",
    "    # Initialize the simulation\n",
    "    env._initialize_sim()\n",
    "\n",
    "    # initializes the rendering\n",
    "    env.initialize_renderer()\n",
    "\n",
    "    # Run all further internal (re-)initialization required\n",
    "    env._reset_internal()\n",
    "\n",
    "    # Load observables\n",
    "    if hasattr(env.viewer, \"_setup_observables\"):\n",
    "        env._observables = env.viewer._setup_observables()\n",
    "    else:\n",
    "        env._observables = env._setup_observables()\n",
    "        \n",
    "    # check if viewer has get observations method and set a flag for future use.\n",
    "    env.viewer_get_obs = hasattr(env.viewer, \"_get_observations\")"
   ]
  },
  {
   "cell_type": "code",
   "execution_count": null,
   "id": "4068bc2f-5c30-4e56-b778-138c18de8dcf",
   "metadata": {},
   "outputs": [],
   "source": [
    "from robosuite.utils.mjcf_utils import CustomMaterial"
   ]
  },
  {
   "cell_type": "code",
   "execution_count": null,
   "id": "ea441865-f768-40f1-a4aa-43247d32c5c4",
   "metadata": {},
   "outputs": [],
   "source": [
    "env = wall_env.WallEnv()\n",
    "tex_attrib = {\n",
    "    \"type\": \"cube\",\n",
    "    \"builtin\": \"checker\"\n",
    "}\n",
    "mat_attrib = {\n",
    "    \"texrepeat\": \"1 1\",\n",
    "    \"specular\": \"0.4\",\n",
    "    \"shininess\": \"0.1\",\n",
    "}\n",
    "test_cube_material = CustomMaterial(\n",
    "    texture=\"WoodRed\",\n",
    "    tex_name=\"redwood\",\n",
    "    mat_name=\"redwood_mat\",\n",
    "    tex_attrib=tex_attrib,\n",
    "    mat_attrib=mat_attrib,\n",
    ")\n",
    "tex_attrib = {\n",
    "    \"type\": \"cube\",\n",
    "}\n",
    "mat_attrib = {\n",
    "    \"texrepeat\": \"1 1\",\n",
    "    \"specular\": \"0.4\",\n",
    "    \"shininess\": \"0.1\",\n",
    "}\n",
    "redwood = CustomMaterial(\n",
    "    texture=\"WoodRed\",\n",
    "    tex_name=\"redwood\",\n",
    "    mat_name=\"redwood_mat\",\n",
    "    tex_attrib=tex_attrib,\n",
    "    mat_attrib=mat_attrib,\n",
    ")\n",
    "test_cube = BoxObject(\n",
    "    name=\"test_cube\",\n",
    "    density=200,\n",
    "    size=[0.04, 0.04, 0.04],\n",
    "    # rgba=(0,0,1,1),\n",
    "    material=redwood,\n",
    ")\n",
    "test_cube_obj = test_cube.get_obj()\n",
    "test_cube_obj.set('pos', f'0.0 0.0 {0.8 + 0.2}')\n",
    "env.model.worldbody.append(test_cube_obj)\n",
    "reinit_env(env)"
   ]
  },
  {
   "cell_type": "code",
   "execution_count": null,
   "id": "a532c71a-626e-4e4e-a927-6297629b2486",
   "metadata": {},
   "outputs": [],
   "source": []
  },
  {
   "cell_type": "code",
   "execution_count": null,
   "id": "596808ef-123a-4624-b350-6cdd9cc34b2f",
   "metadata": {},
   "outputs": [],
   "source": []
  },
  {
   "cell_type": "code",
   "execution_count": null,
   "id": "44115ea4-aaba-4022-9a47-a4315f843d81",
   "metadata": {},
   "outputs": [],
   "source": []
  },
  {
   "cell_type": "code",
   "execution_count": null,
   "id": "fc86a43f-f6ec-40b3-a85f-3879bf7b4d10",
   "metadata": {},
   "outputs": [],
   "source": []
  },
  {
   "cell_type": "code",
   "execution_count": null,
   "id": "ce93d6b8-314e-499b-a530-d8a3d08c5bd0",
   "metadata": {},
   "outputs": [],
   "source": []
  },
  {
   "cell_type": "code",
   "execution_count": null,
   "id": "ed6b8155-4c22-4dd6-b99f-d3a314e0f3cb",
   "metadata": {},
   "outputs": [],
   "source": []
  }
 ],
 "metadata": {
  "kernelspec": {
   "display_name": "Python 3 (ipykernel)",
   "language": "python",
   "name": "python3"
  },
  "language_info": {
   "codemirror_mode": {
    "name": "ipython",
    "version": 3
   },
   "file_extension": ".py",
   "mimetype": "text/x-python",
   "name": "python",
   "nbconvert_exporter": "python",
   "pygments_lexer": "ipython3",
   "version": "3.9.16"
  }
 },
 "nbformat": 4,
 "nbformat_minor": 5
}
