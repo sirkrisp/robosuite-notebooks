{
 "cells": [
  {
   "cell_type": "code",
   "execution_count": 1,
   "id": "e6895393-485c-4378-ba13-fdd8c78e1cc1",
   "metadata": {},
   "outputs": [
    {
     "name": "stderr",
     "output_type": "stream",
     "text": [
      "\u001b[1m\u001b[33m[robosuite WARNING] \u001b[0mNo private macro file found! (__init__.py:7)\n",
      "\u001b[1m\u001b[33m[robosuite WARNING] \u001b[0mIt is recommended to use a private macro file (__init__.py:8)\n",
      "\u001b[1m\u001b[33m[robosuite WARNING] \u001b[0mTo setup, run: python /Users/krispin/miniconda3/envs/robosuite/lib/python3.9/site-packages/robosuite/scripts/setup_macros.py (__init__.py:9)\n"
     ]
    }
   ],
   "source": [
    "import mujoco\n",
    "from PIL import Image\n",
    "from IPython.display import display\n",
    "import cv2\n",
    "import importlib\n",
    "import numpy as np\n",
    "\n",
    "from robosuite.models.objects import BallObject, BoxObject\n",
    "\n",
    "from PIL import Image\n",
    "from IPython.display import display"
   ]
  },
  {
   "cell_type": "code",
   "execution_count": 2,
   "id": "a4e9c17d-bc7a-48fb-88a8-b036888b8099",
   "metadata": {},
   "outputs": [],
   "source": [
    "import brick_envs.wall_env as wall_env"
   ]
  },
  {
   "cell_type": "code",
   "execution_count": 3,
   "id": "57be7872-0908-4da5-b5cf-56e029e7fbb7",
   "metadata": {},
   "outputs": [],
   "source": [
    "import brick_envs.bricks_base_env as bricks_base_env"
   ]
  },
  {
   "cell_type": "code",
   "execution_count": 4,
   "id": "610b4c7b-9cca-4d1e-9f1d-cb569038a073",
   "metadata": {},
   "outputs": [],
   "source": [
    "import importlib"
   ]
  },
  {
   "cell_type": "code",
   "execution_count": 5,
   "id": "94d5d4e0-0022-4049-9257-92d71ba6bb2b",
   "metadata": {},
   "outputs": [
    {
     "data": {
      "text/plain": [
       "<module 'brick_envs.bricks_base_env' from '/Users/krispin/Documents/projects/phd-local/projects-phd-local/robosuite-notebooks/brick_envs/bricks_base_env.py'>"
      ]
     },
     "execution_count": 5,
     "metadata": {},
     "output_type": "execute_result"
    }
   ],
   "source": [
    "importlib.reload(wall_env)\n",
    "importlib.reload(bricks_base_env)"
   ]
  },
  {
   "cell_type": "code",
   "execution_count": 6,
   "id": "5eb41ed7-df9e-4e4f-acf6-19980a29b066",
   "metadata": {},
   "outputs": [],
   "source": [
    "import yaml\n",
    "import os"
   ]
  },
  {
   "cell_type": "code",
   "execution_count": 7,
   "id": "84374604-5f0b-464b-818e-f28c48743070",
   "metadata": {},
   "outputs": [],
   "source": [
    "config_path = bricks_base_env.config_path_default"
   ]
  },
  {
   "cell_type": "code",
   "execution_count": 8,
   "id": "af47c9f0-23c5-4ff6-9423-f3317e6b111d",
   "metadata": {},
   "outputs": [],
   "source": [
    "with open(config_path, mode=\"rt\", encoding=\"utf-8\") as file:\n",
    "    config = yaml.safe_load(file)"
   ]
  },
  {
   "cell_type": "code",
   "execution_count": 9,
   "id": "b84d1fe1-e0a1-4d8f-a815-f8061d422489",
   "metadata": {},
   "outputs": [
    {
     "data": {
      "text/plain": [
       "{'bricks_base_env_config': {'table': {'full_size': [0.8, 0.8, 0.05],\n",
       "   'friction': [1.0, 0.005, 0.0001],\n",
       "   'offset': [0, 0, 0.8]}},\n",
       " 'single_arm_env_config': {'env_configuration': 'default',\n",
       "  'initialization_noise': 'default',\n",
       "  'robots': 'Panda',\n",
       "  'gripper_types': 'default',\n",
       "  'use_camera_obs': True,\n",
       "  'has_renderer': False,\n",
       "  'has_offscreen_renderer': True,\n",
       "  'render_camera': 'frontview',\n",
       "  'render_collision_mesh': False,\n",
       "  'render_visual_mesh': True,\n",
       "  'render_gpu_device_id': -1,\n",
       "  'control_freq': 20,\n",
       "  'horizon': 1000,\n",
       "  'ignore_done': False,\n",
       "  'hard_reset': True,\n",
       "  'camera_names': 'agentview',\n",
       "  'camera_heights': 256,\n",
       "  'camera_widths': 256,\n",
       "  'camera_depths': False,\n",
       "  'renderer': 'mujoco'}}"
      ]
     },
     "execution_count": 9,
     "metadata": {},
     "output_type": "execute_result"
    }
   ],
   "source": [
    "config"
   ]
  },
  {
   "cell_type": "markdown",
   "id": "4535afa0-72e3-43b2-bb8e-30eee46c5cb0",
   "metadata": {},
   "source": [
    "## Wall Env"
   ]
  },
  {
   "cell_type": "code",
   "execution_count": 47,
   "id": "46c54d8c-e11b-45c8-a2e3-5bec2156d163",
   "metadata": {},
   "outputs": [],
   "source": [
    "from collections import OrderedDict"
   ]
  },
  {
   "cell_type": "code",
   "execution_count": 48,
   "id": "ee2a4ee2-83df-4255-8638-044d626c95fd",
   "metadata": {},
   "outputs": [],
   "source": [
    "test = OrderedDict((\n",
    "    ('box', 1),\n",
    "    ('bridge', 2),\n",
    "    ('chair', 3),\n",
    "))"
   ]
  },
  {
   "cell_type": "code",
   "execution_count": 50,
   "id": "94b2ea9d-f5ff-4a38-bb56-3a77a794f40b",
   "metadata": {},
   "outputs": [
    {
     "data": {
      "text/plain": [
       "['box', 'bridge', 'chair']"
      ]
     },
     "execution_count": 50,
     "metadata": {},
     "output_type": "execute_result"
    }
   ],
   "source": [
    "list(test.keys())"
   ]
  },
  {
   "cell_type": "code",
   "execution_count": null,
   "id": "71c82e96-697d-43f0-a902-41b937dfc366",
   "metadata": {},
   "outputs": [],
   "source": []
  },
  {
   "cell_type": "code",
   "execution_count": 10,
   "id": "d4c1932b-d3eb-41b9-ad78-369a9ee8ce5c",
   "metadata": {},
   "outputs": [],
   "source": [
    "import brick_envs.chair_env as chair_env"
   ]
  },
  {
   "cell_type": "code",
   "execution_count": 11,
   "id": "25b08daf-6f77-4df0-89b3-0494bf1b0990",
   "metadata": {},
   "outputs": [],
   "source": [
    "import brick_envs.floor_env as floor_env"
   ]
  },
  {
   "cell_type": "code",
   "execution_count": 12,
   "id": "d89f8d02-62fa-4c14-b1be-931f12e768c2",
   "metadata": {},
   "outputs": [],
   "source": [
    "import brick_envs.wall_env as wall_env"
   ]
  },
  {
   "cell_type": "code",
   "execution_count": 13,
   "id": "8054d5e8-c1bf-4958-8b31-5443235a27b5",
   "metadata": {},
   "outputs": [],
   "source": [
    "import brick_envs.tower2d_env as tower2d_env"
   ]
  },
  {
   "cell_type": "code",
   "execution_count": 14,
   "id": "412bf12f-f17a-4590-b500-e7e3d404eb08",
   "metadata": {},
   "outputs": [],
   "source": [
    "import brick_envs.tower3d_env as tower3d_env"
   ]
  },
  {
   "cell_type": "code",
   "execution_count": 15,
   "id": "63a75a5e-b2e5-429d-b9a8-775aabf2a19b",
   "metadata": {},
   "outputs": [],
   "source": [
    "import brick_envs.pyramid2d_env as pyramid2d_env"
   ]
  },
  {
   "cell_type": "code",
   "execution_count": 16,
   "id": "eb916252-23d0-47e5-b6a9-7cbf61a8cb0f",
   "metadata": {},
   "outputs": [],
   "source": [
    "import brick_envs.pyramid3d_env as pyramid3d_env"
   ]
  },
  {
   "cell_type": "code",
   "execution_count": 17,
   "id": "b562d38f-9c9f-4382-bcde-0e1f668aaea0",
   "metadata": {},
   "outputs": [],
   "source": [
    "import brick_envs.bridge_env as bridge_env"
   ]
  },
  {
   "cell_type": "code",
   "execution_count": 30,
   "id": "f24a746c-453b-4ac4-8427-5ffbbf60666f",
   "metadata": {},
   "outputs": [],
   "source": [
    "import brick_envs.box_env as box_env"
   ]
  },
  {
   "cell_type": "code",
   "execution_count": 40,
   "id": "d83a2ae4-a10f-41f8-9850-eb63694024d5",
   "metadata": {},
   "outputs": [],
   "source": [
    "import brick_envs.pick_place_env as pick_place_env"
   ]
  },
  {
   "cell_type": "code",
   "execution_count": 29,
   "id": "a742173a-1ed3-4245-a9b2-e7b963802d07",
   "metadata": {},
   "outputs": [],
   "source": [
    "env = floor_env.FloorEnv()"
   ]
  },
  {
   "cell_type": "code",
   "execution_count": 22,
   "id": "ef78d6f2-b56a-4bad-bc59-f4c59e903675",
   "metadata": {},
   "outputs": [],
   "source": [
    "env = chair_env.ChairEnv()"
   ]
  },
  {
   "cell_type": "code",
   "execution_count": 19,
   "id": "8acb3582-3ece-48ad-ace1-bafa374059d3",
   "metadata": {},
   "outputs": [],
   "source": [
    "env = wall_env.WallEnv()"
   ]
  },
  {
   "cell_type": "code",
   "execution_count": 37,
   "id": "662375dd-3dcc-4a41-ac0b-aa200dd9fd54",
   "metadata": {},
   "outputs": [],
   "source": [
    "env = tower2d_env.Tower2DEnv()"
   ]
  },
  {
   "cell_type": "code",
   "execution_count": 44,
   "id": "6060817a-68d2-4521-bbe8-437181640e06",
   "metadata": {},
   "outputs": [],
   "source": [
    "env = tower3d_env.Tower3DEnv()"
   ]
  },
  {
   "cell_type": "code",
   "execution_count": 62,
   "id": "e9c549c0-bc5f-4b30-8280-f55b4c5449e2",
   "metadata": {},
   "outputs": [],
   "source": [
    "env = pyramid2d_env.Pyramid2DEnv()"
   ]
  },
  {
   "cell_type": "code",
   "execution_count": 17,
   "id": "d3051a93-14f2-4bb6-8a9a-7a290cf7aa17",
   "metadata": {},
   "outputs": [],
   "source": [
    "env = pyramid3d_env.Pyramid3DEnv()"
   ]
  },
  {
   "cell_type": "code",
   "execution_count": 19,
   "id": "54ac69a0-bf23-4bd0-8d93-c88b60cd468d",
   "metadata": {},
   "outputs": [],
   "source": [
    "env = bridge_env.BridgeEnv()"
   ]
  },
  {
   "cell_type": "code",
   "execution_count": 31,
   "id": "cb012623-d3d4-4743-ba7d-925ac9a74145",
   "metadata": {},
   "outputs": [],
   "source": [
    "env = box_env.BoxEnv()"
   ]
  },
  {
   "cell_type": "code",
   "execution_count": 42,
   "id": "a60f815c-f1b6-401b-a6b4-eb8db4e1f501",
   "metadata": {},
   "outputs": [],
   "source": [
    "env = pick_place_env.PickPlaceEnv()"
   ]
  },
  {
   "cell_type": "code",
   "execution_count": 43,
   "id": "ab8e19c4-8a85-4242-b3e9-f12164e543ad",
   "metadata": {},
   "outputs": [],
   "source": [
    "o = env.reset()"
   ]
  },
  {
   "cell_type": "code",
   "execution_count": 46,
   "id": "5e1d038d-8353-4201-996e-9cbc731858d8",
   "metadata": {},
   "outputs": [
    {
     "data": {
      "image/png": "[encoded data removed]",
      "text/plain": [
       "<PIL.Image.Image image mode=RGB size=300x300>"
      ]
     },
     "metadata": {},
     "output_type": "display_data"
    }
   ],
   "source": [
    "env_img = env.sim.render(300, 300, camera_name=\"frontview\")\n",
    "display(Image.fromarray(cv2.rotate(env_img, cv2.ROTATE_180)))"
   ]
  },
  {
   "cell_type": "code",
   "execution_count": 45,
   "id": "da0faec9-1c48-4fa4-b753-802d03466bd5",
   "metadata": {},
   "outputs": [],
   "source": [
    "env.go_to_step(2)"
   ]
  },
  {
   "cell_type": "code",
   "execution_count": 35,
   "id": "8354acc9-15cd-413a-a0fa-89b995388f04",
   "metadata": {},
   "outputs": [
    {
     "data": {
      "text/plain": [
       "['g0_vis', 'g1_vis', 'g2_vis']"
      ]
     },
     "execution_count": 35,
     "metadata": {},
     "output_type": "execute_result"
    }
   ],
   "source": [
    "env.bricks[2]._visual_geoms"
   ]
  },
  {
   "cell_type": "code",
   "execution_count": 50,
   "id": "51e3f2e9-6c37-4d6d-a5ce-698a17437fff",
   "metadata": {},
   "outputs": [
    {
     "name": "stdout",
     "output_type": "stream",
     "text": [
      "101 µs ± 991 ns per loop (mean ± std. dev. of 7 runs, 10,000 loops each)\n"
     ]
    }
   ],
   "source": [
    "%timeit env.bricks[2]._get_object_subtree()"
   ]
  },
  {
   "cell_type": "code",
   "execution_count": 49,
   "id": "79d282f5-09d8-4d5d-a23e-561646113efd",
   "metadata": {},
   "outputs": [
    {
     "data": {
      "text/plain": [
       "<Element 'geom' at 0x151b90e50>"
      ]
     },
     "execution_count": 49,
     "metadata": {},
     "output_type": "execute_result"
    }
   ],
   "source": [
    "env.bricks[2]._obj[7]"
   ]
  },
  {
   "cell_type": "code",
   "execution_count": null,
   "id": "be2e717d-38ae-4338-801b-34b4b45c9167",
   "metadata": {},
   "outputs": [],
   "source": [
    "env.model.rgb"
   ]
  },
  {
   "cell_type": "code",
   "execution_count": 18,
   "id": "875c433a-9998-4388-8ced-d8144fc4c6a1",
   "metadata": {},
   "outputs": [],
   "source": [
    "env.sim.data._model.geom('cube_1_g2_vis').rgba = (1, 0, 0, 1)"
   ]
  },
  {
   "cell_type": "code",
   "execution_count": 26,
   "id": "e6706a0e-b049-4b28-b50e-3d4f6ab02a31",
   "metadata": {},
   "outputs": [],
   "source": [
    "env.bricks[0].geom_rgbas[0] = (0, 0, 1, 1)\n",
    "env.sim.forward()"
   ]
  },
  {
   "cell_type": "code",
   "execution_count": 23,
   "id": "8e8a5389-8445-43cd-b537-d1fdad101410",
   "metadata": {},
   "outputs": [
    {
     "ename": "ValueError",
     "evalue": "No \"geom\" with name cube_1 exists. Available \"geom\" names = ('floor', 'wall_leftcorner_visual', 'wall_rightcorner_visual', 'wall_left_visual', 'wall_right_visual', 'wall_rear_visual', 'wall_front_visual', 'table_collision', 'table_visual', 'table_leg1_visual', 'table_leg2_visual', 'table_leg3_visual', 'table_leg4_visual', 'robot0_g0_vis', 'robot0_g1_vis', 'robot0_g2_vis', 'robot0_g3_vis', 'robot0_g4_vis', 'robot0_g5_vis', 'robot0_g6_vis', 'robot0_g7_vis', 'robot0_g8_vis', 'robot0_g9_vis', 'robot0_g10_vis', 'robot0_g11_vis', 'robot0_link0_collision', 'robot0_g12_vis', 'robot0_link1_collision', 'robot0_g13_vis', 'robot0_link2_collision', 'robot0_g14_vis', 'robot0_g15_vis', 'robot0_g16_vis', 'robot0_g17_vis', 'robot0_link3_collision', 'robot0_g18_vis', 'robot0_g19_vis', 'robot0_g20_vis', 'robot0_g21_vis', 'robot0_link4_collision', 'robot0_g22_vis', 'robot0_g23_vis', 'robot0_g24_vis', 'robot0_link5_collision', 'robot0_g25_vis', 'robot0_g26_vis', 'robot0_g27_vis', 'robot0_g28_vis', 'robot0_g29_vis', 'robot0_g30_vis', 'robot0_g31_vis', 'robot0_g32_vis', 'robot0_g33_vis', 'robot0_g34_vis', 'robot0_g35_vis', 'robot0_g36_vis', 'robot0_g37_vis', 'robot0_g38_vis', 'robot0_g39_vis', 'robot0_g40_vis', 'robot0_g41_vis', 'robot0_link6_collision', 'robot0_g42_vis', 'robot0_g43_vis', 'robot0_g44_vis', 'robot0_g45_vis', 'robot0_g46_vis', 'robot0_g47_vis', 'robot0_g48_vis', 'robot0_g49_vis', 'gripper0_hand_visual', 'gripper0_hand_collision', 'gripper0_finger1_visual', 'gripper0_finger1_collision', 'gripper0_finger1_pad_collision', 'gripper0_finger2_visual', 'gripper0_finger2_collision', 'gripper0_finger2_pad_collision', 'mount0_controller_box_col', 'mount0_pedestal_feet_col', 'mount0_torso_vis', 'mount0_pedestal_vis', 'mount0_pedestal_col', 'cube_1_g0', 'cube_1_g0_vis', 'cube_1_g1', 'cube_1_g1_vis', 'cube_1_g2', 'cube_1_g2_vis', 'cube_2_g0', 'cube_2_g0_vis', 'cube_2_g1', 'cube_2_g1_vis', 'cube_2_g2', 'cube_2_g2_vis', 'cube_3_g0', 'cube_3_g0_vis', 'cube_3_g1', 'cube_3_g1_vis', 'cube_3_g2', 'cube_3_g2_vis', 'cube_4_g0', 'cube_4_g0_vis', 'cube_4_g1', 'cube_4_g1_vis', 'cube_4_g2', 'cube_4_g2_vis', 'cube_5_g0', 'cube_5_g0_vis', 'cube_5_g1', 'cube_5_g1_vis', 'cube_5_g2', 'cube_5_g2_vis').",
     "output_type": "error",
     "traceback": [
      "\u001b[0;31m---------------------------------------------------------------------------\u001b[0m",
      "\u001b[0;31mValueError\u001b[0m                                Traceback (most recent call last)",
      "Cell \u001b[0;32mIn[23], line 1\u001b[0m\n\u001b[0;32m----> 1\u001b[0m \u001b[43menv\u001b[49m\u001b[38;5;241;43m.\u001b[39;49m\u001b[43msim\u001b[49m\u001b[38;5;241;43m.\u001b[39;49m\u001b[43mmodel\u001b[49m\u001b[38;5;241;43m.\u001b[39;49m\u001b[43mgeom_name2id\u001b[49m\u001b[43m(\u001b[49m\u001b[38;5;124;43m'\u001b[39;49m\u001b[38;5;124;43mcube_1\u001b[39;49m\u001b[38;5;124;43m'\u001b[39;49m\u001b[43m)\u001b[49m\n",
      "File \u001b[0;32m~/miniconda3/envs/robosuite/lib/python3.9/site-packages/robosuite/utils/binding_utils.py:393\u001b[0m, in \u001b[0;36mMjModel.geom_name2id\u001b[0;34m(self, name)\u001b[0m\n\u001b[1;32m    391\u001b[0m \u001b[38;5;250m\u001b[39m\u001b[38;5;124;03m\"\"\"Get geom id from  geom name.\"\"\"\u001b[39;00m\n\u001b[1;32m    392\u001b[0m \u001b[38;5;28;01mif\u001b[39;00m name \u001b[38;5;129;01mnot\u001b[39;00m \u001b[38;5;129;01min\u001b[39;00m \u001b[38;5;28mself\u001b[39m\u001b[38;5;241m.\u001b[39m_geom_name2id:\n\u001b[0;32m--> 393\u001b[0m     \u001b[38;5;28;01mraise\u001b[39;00m \u001b[38;5;167;01mValueError\u001b[39;00m(\u001b[38;5;124m'\u001b[39m\u001b[38;5;124mNo \u001b[39m\u001b[38;5;124m\"\u001b[39m\u001b[38;5;124mgeom\u001b[39m\u001b[38;5;124m\"\u001b[39m\u001b[38;5;124m with name \u001b[39m\u001b[38;5;132;01m%s\u001b[39;00m\u001b[38;5;124m exists. Available \u001b[39m\u001b[38;5;124m\"\u001b[39m\u001b[38;5;124mgeom\u001b[39m\u001b[38;5;124m\"\u001b[39m\u001b[38;5;124m names = \u001b[39m\u001b[38;5;132;01m%s\u001b[39;00m\u001b[38;5;124m.\u001b[39m\u001b[38;5;124m'\u001b[39m \u001b[38;5;241m%\u001b[39m (name, \u001b[38;5;28mself\u001b[39m\u001b[38;5;241m.\u001b[39mgeom_names))\n\u001b[1;32m    394\u001b[0m \u001b[38;5;28;01mreturn\u001b[39;00m \u001b[38;5;28mself\u001b[39m\u001b[38;5;241m.\u001b[39m_geom_name2id[name]\n",
      "\u001b[0;31mValueError\u001b[0m: No \"geom\" with name cube_1 exists. Available \"geom\" names = ('floor', 'wall_leftcorner_visual', 'wall_rightcorner_visual', 'wall_left_visual', 'wall_right_visual', 'wall_rear_visual', 'wall_front_visual', 'table_collision', 'table_visual', 'table_leg1_visual', 'table_leg2_visual', 'table_leg3_visual', 'table_leg4_visual', 'robot0_g0_vis', 'robot0_g1_vis', 'robot0_g2_vis', 'robot0_g3_vis', 'robot0_g4_vis', 'robot0_g5_vis', 'robot0_g6_vis', 'robot0_g7_vis', 'robot0_g8_vis', 'robot0_g9_vis', 'robot0_g10_vis', 'robot0_g11_vis', 'robot0_link0_collision', 'robot0_g12_vis', 'robot0_link1_collision', 'robot0_g13_vis', 'robot0_link2_collision', 'robot0_g14_vis', 'robot0_g15_vis', 'robot0_g16_vis', 'robot0_g17_vis', 'robot0_link3_collision', 'robot0_g18_vis', 'robot0_g19_vis', 'robot0_g20_vis', 'robot0_g21_vis', 'robot0_link4_collision', 'robot0_g22_vis', 'robot0_g23_vis', 'robot0_g24_vis', 'robot0_link5_collision', 'robot0_g25_vis', 'robot0_g26_vis', 'robot0_g27_vis', 'robot0_g28_vis', 'robot0_g29_vis', 'robot0_g30_vis', 'robot0_g31_vis', 'robot0_g32_vis', 'robot0_g33_vis', 'robot0_g34_vis', 'robot0_g35_vis', 'robot0_g36_vis', 'robot0_g37_vis', 'robot0_g38_vis', 'robot0_g39_vis', 'robot0_g40_vis', 'robot0_g41_vis', 'robot0_link6_collision', 'robot0_g42_vis', 'robot0_g43_vis', 'robot0_g44_vis', 'robot0_g45_vis', 'robot0_g46_vis', 'robot0_g47_vis', 'robot0_g48_vis', 'robot0_g49_vis', 'gripper0_hand_visual', 'gripper0_hand_collision', 'gripper0_finger1_visual', 'gripper0_finger1_collision', 'gripper0_finger1_pad_collision', 'gripper0_finger2_visual', 'gripper0_finger2_collision', 'gripper0_finger2_pad_collision', 'mount0_controller_box_col', 'mount0_pedestal_feet_col', 'mount0_torso_vis', 'mount0_pedestal_vis', 'mount0_pedestal_col', 'cube_1_g0', 'cube_1_g0_vis', 'cube_1_g1', 'cube_1_g1_vis', 'cube_1_g2', 'cube_1_g2_vis', 'cube_2_g0', 'cube_2_g0_vis', 'cube_2_g1', 'cube_2_g1_vis', 'cube_2_g2', 'cube_2_g2_vis', 'cube_3_g0', 'cube_3_g0_vis', 'cube_3_g1', 'cube_3_g1_vis', 'cube_3_g2', 'cube_3_g2_vis', 'cube_4_g0', 'cube_4_g0_vis', 'cube_4_g1', 'cube_4_g1_vis', 'cube_4_g2', 'cube_4_g2_vis', 'cube_5_g0', 'cube_5_g0_vis', 'cube_5_g1', 'cube_5_g1_vis', 'cube_5_g2', 'cube_5_g2_vis')."
     ]
    }
   ],
   "source": [
    "env.sim.model.geom_name2id('cube_1')"
   ]
  },
  {
   "cell_type": "code",
   "execution_count": null,
   "id": "ab8da61e-4853-49c1-8709-c01deff3c803",
   "metadata": {},
   "outputs": [],
   "source": [
    "env.go_to_step(1)"
   ]
  },
  {
   "cell_type": "code",
   "execution_count": null,
   "id": "7ad2b7ec-e44f-4660-b2f2-f3f02932a12f",
   "metadata": {},
   "outputs": [],
   "source": [
    "env.brick_placements"
   ]
  },
  {
   "cell_type": "code",
   "execution_count": null,
   "id": "9715a17e-e870-4a21-baf2-e44ae7d2eafc",
   "metadata": {},
   "outputs": [],
   "source": [
    "env._assemble_bricks(2,(3,3),0,0,3)\n",
    "env._assemble_bricks(2,(1,0),1,0,0)"
   ]
  },
  {
   "cell_type": "code",
   "execution_count": null,
   "id": "c869b0d2-7f68-4411-a311-a009882f9824",
   "metadata": {},
   "outputs": [],
   "source": [
    "for i in range(50):\n",
    "    o = env.step(np.zeros(8))"
   ]
  },
  {
   "cell_type": "code",
   "execution_count": null,
   "id": "4a53d1db-6905-4a66-80c2-2178aa5e815e",
   "metadata": {},
   "outputs": [],
   "source": [
    "[0,0] + [1]"
   ]
  },
  {
   "cell_type": "markdown",
   "id": "a5689013-19cf-4f46-82d7-da0216b51fbd",
   "metadata": {},
   "source": [
    "## Test Texture"
   ]
  },
  {
   "cell_type": "code",
   "execution_count": null,
   "id": "10661af1-e1f8-4d0d-8bcb-44bc3563697f",
   "metadata": {},
   "outputs": [],
   "source": [
    "# add object to env\n",
    "\n",
    "def reinit_env(env):\n",
    "    # Load the model\n",
    "    # self._load_model()\n",
    "    \n",
    "    # Initialize the simulation\n",
    "    env._initialize_sim()\n",
    "\n",
    "    # initializes the rendering\n",
    "    env.initialize_renderer()\n",
    "\n",
    "    # Run all further internal (re-)initialization required\n",
    "    env._reset_internal()\n",
    "\n",
    "    # Load observables\n",
    "    if hasattr(env.viewer, \"_setup_observables\"):\n",
    "        env._observables = env.viewer._setup_observables()\n",
    "    else:\n",
    "        env._observables = env._setup_observables()\n",
    "        \n",
    "    # check if viewer has get observations method and set a flag for future use.\n",
    "    env.viewer_get_obs = hasattr(env.viewer, \"_get_observations\")"
   ]
  },
  {
   "cell_type": "code",
   "execution_count": null,
   "id": "4068bc2f-5c30-4e56-b778-138c18de8dcf",
   "metadata": {},
   "outputs": [],
   "source": [
    "from robosuite.utils.mjcf_utils import CustomMaterial"
   ]
  },
  {
   "cell_type": "code",
   "execution_count": null,
   "id": "ea441865-f768-40f1-a4aa-43247d32c5c4",
   "metadata": {},
   "outputs": [],
   "source": [
    "env = wall_env.WallEnv()\n",
    "tex_attrib = {\n",
    "    \"type\": \"cube\",\n",
    "    \"builtin\": \"checker\"\n",
    "}\n",
    "mat_attrib = {\n",
    "    \"texrepeat\": \"1 1\",\n",
    "    \"specular\": \"0.4\",\n",
    "    \"shininess\": \"0.1\",\n",
    "}\n",
    "test_cube_material = CustomMaterial(\n",
    "    texture=\"WoodRed\",\n",
    "    tex_name=\"redwood\",\n",
    "    mat_name=\"redwood_mat\",\n",
    "    tex_attrib=tex_attrib,\n",
    "    mat_attrib=mat_attrib,\n",
    ")\n",
    "tex_attrib = {\n",
    "    \"type\": \"cube\",\n",
    "}\n",
    "mat_attrib = {\n",
    "    \"texrepeat\": \"1 1\",\n",
    "    \"specular\": \"0.4\",\n",
    "    \"shininess\": \"0.1\",\n",
    "}\n",
    "redwood = CustomMaterial(\n",
    "    texture=\"WoodRed\",\n",
    "    tex_name=\"redwood\",\n",
    "    mat_name=\"redwood_mat\",\n",
    "    tex_attrib=tex_attrib,\n",
    "    mat_attrib=mat_attrib,\n",
    ")\n",
    "test_cube = BoxObject(\n",
    "    name=\"test_cube\",\n",
    "    density=200,\n",
    "    size=[0.04, 0.04, 0.04],\n",
    "    # rgba=(0,0,1,1),\n",
    "    material=redwood,\n",
    ")\n",
    "test_cube_obj = test_cube.get_obj()\n",
    "test_cube_obj.set('pos', f'0.0 0.0 {0.8 + 0.2}')\n",
    "env.model.worldbody.append(test_cube_obj)\n",
    "reinit_env(env)"
   ]
  },
  {
   "cell_type": "code",
   "execution_count": null,
   "id": "a532c71a-626e-4e4e-a927-6297629b2486",
   "metadata": {},
   "outputs": [],
   "source": []
  },
  {
   "cell_type": "code",
   "execution_count": null,
   "id": "596808ef-123a-4624-b350-6cdd9cc34b2f",
   "metadata": {},
   "outputs": [],
   "source": []
  },
  {
   "cell_type": "code",
   "execution_count": null,
   "id": "44115ea4-aaba-4022-9a47-a4315f843d81",
   "metadata": {},
   "outputs": [],
   "source": []
  },
  {
   "cell_type": "code",
   "execution_count": null,
   "id": "fc86a43f-f6ec-40b3-a85f-3879bf7b4d10",
   "metadata": {},
   "outputs": [],
   "source": []
  },
  {
   "cell_type": "code",
   "execution_count": null,
   "id": "ce93d6b8-314e-499b-a530-d8a3d08c5bd0",
   "metadata": {},
   "outputs": [],
   "source": []
  },
  {
   "cell_type": "code",
   "execution_count": null,
   "id": "ed6b8155-4c22-4dd6-b99f-d3a314e0f3cb",
   "metadata": {},
   "outputs": [],
   "source": []
  }
 ],
 "metadata": {
  "kernelspec": {
   "display_name": "Python 3 (ipykernel)",
   "language": "python",
   "name": "python3"
  },
  "language_info": {
   "codemirror_mode": {
    "name": "ipython",
    "version": 3
   },
   "file_extension": ".py",
   "mimetype": "text/x-python",
   "name": "python",
   "nbconvert_exporter": "python",
   "pygments_lexer": "ipython3",
   "version": "3.9.16"
  }
 },
 "nbformat": 4,
 "nbformat_minor": 5
}
