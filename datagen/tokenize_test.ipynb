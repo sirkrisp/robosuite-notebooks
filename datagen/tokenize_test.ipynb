{
 "cells": [
  {
   "cell_type": "code",
   "execution_count": 10,
   "metadata": {},
   "outputs": [],
   "source": [
    "import tiktoken\n",
    "import os\n",
    "import torch"
   ]
  },
  {
   "cell_type": "code",
   "execution_count": 7,
   "metadata": {},
   "outputs": [
    {
     "name": "stdout",
     "output_type": "stream",
     "text": [
      "all the unique characters: AB-0123456789[](){},.:\n",
      "vocab size: 22\n"
     ]
    }
   ],
   "source": [
    "# get all the unique characters that occur in this text\n",
    "chars = [\"A\", \"B\", \"-\", \"0\", \"1\", \"2\", \"3\", \"4\", \"5\", \"6\", \"7\", \"8\", \"9\", \"[\", \"]\", \"(\", \")\", \"{\", \"}\", \",\", \".\", \":\"]\n",
    "vocab_size = len(chars)\n",
    "print(\"all the unique characters:\", ''.join(chars))\n",
    "print(f\"vocab size: {vocab_size:,}\")"
   ]
  },
  {
   "cell_type": "code",
   "execution_count": 8,
   "metadata": {},
   "outputs": [],
   "source": [
    "# create a mapping from characters to integers\n",
    "stoi = { ch:i for i,ch in enumerate(chars) }\n",
    "itos = { i:ch for i,ch in enumerate(chars) }\n",
    "def encode(s):\n",
    "    return [stoi[c] for c in s] # encoder: take a string, output a list of integers\n",
    "def decode(l):\n",
    "    return ''.join([itos[i] for i in l]) # decoder: take a list of integers, output a string"
   ]
  },
  {
   "cell_type": "code",
   "execution_count": 9,
   "metadata": {},
   "outputs": [],
   "source": [
    "data_folder = \"/home/user/Documents/projects/robosuite-notebooks/datagen/manuals_01\"\n",
    "input_file_path = os.path.join(data_folder, \"captions.txt\")\n",
    "output_file_path = os.path.join(data_folder, \"captions_tokenized.tar\")"
   ]
  },
  {
   "cell_type": "code",
   "execution_count": 13,
   "metadata": {},
   "outputs": [],
   "source": [
    "captions_tokenized = torch.load(output_file_path)"
   ]
  },
  {
   "cell_type": "code",
   "execution_count": 18,
   "metadata": {},
   "outputs": [
    {
     "data": {
      "text/plain": [
       "tensor([[ 0, 21, 17,  ..., 14, 18, 20],\n",
       "        [ 0, 21, 17,  ..., 14, 18, 20],\n",
       "        [ 0, 21, 17,  ..., 14, 18, 20],\n",
       "        ...,\n",
       "        [ 0, 21, 17,  ..., 14, 18, 20],\n",
       "        [ 0, 21, 17,  ..., 14, 18, 20],\n",
       "        [ 0, 21, 17,  ..., 14, 18, 20]], dtype=torch.uint8)"
      ]
     },
     "execution_count": 18,
     "metadata": {},
     "output_type": "execute_result"
    }
   ],
   "source": [
    "captions_tokenized"
   ]
  },
  {
   "cell_type": "code",
   "execution_count": 24,
   "metadata": {},
   "outputs": [
    {
     "data": {
      "text/plain": [
       "'A:{0:[1,2],1:[1,4],2:[2,3],3:[3,4],4:[2,3],5:[1,4],6:[3,4]}.'"
      ]
     },
     "execution_count": 24,
     "metadata": {},
     "output_type": "execute_result"
    }
   ],
   "source": [
    "with open(input_file_path, 'r') as f:\n",
    "    data = f.read()\n",
    "data = data.replace(\" \", \"\").split(\"\\n\")\n",
    "data[0]"
   ]
  },
  {
   "cell_type": "code",
   "execution_count": 26,
   "metadata": {},
   "outputs": [
    {
     "name": "stdout",
     "output_type": "stream",
     "text": [
      "[0, 21, 17, 3, 21, 13, 4, 19, 5, 14, 19, 4, 21, 13, 4, 19, 7, 14, 19, 5, 21, 13, 5, 19, 6, 14, 19, 6, 21, 13, 6, 19, 7, 14, 19, 7, 21, 13, 5, 19, 6, 14, 19, 8, 21, 13, 4, 19, 7, 14, 19, 9, 21, 13, 6, 19, 7, 14, 18, 20]\n"
     ]
    }
   ],
   "source": [
    "a = encode(data[0])\n",
    "print(a)"
   ]
  },
  {
   "cell_type": "code",
   "execution_count": 35,
   "metadata": {},
   "outputs": [
    {
     "data": {
      "text/plain": [
       "'A:{0:[1,2],1:[1,4],2:[2,3],3:[3,4],4:[2,3],5:[1,4],6:[3,4]}.'"
      ]
     },
     "execution_count": 35,
     "metadata": {},
     "output_type": "execute_result"
    }
   ],
   "source": [
    "decode(a)"
   ]
  },
  {
   "cell_type": "code",
   "execution_count": 34,
   "metadata": {},
   "outputs": [
    {
     "data": {
      "text/plain": [
       "60"
      ]
     },
     "execution_count": 34,
     "metadata": {},
     "output_type": "execute_result"
    }
   ],
   "source": [
    "len(a)\n"
   ]
  },
  {
   "cell_type": "code",
   "execution_count": 1,
   "metadata": {},
   "outputs": [],
   "source": [
    "import torch"
   ]
  },
  {
   "cell_type": "code",
   "execution_count": 2,
   "metadata": {},
   "outputs": [
    {
     "data": {
      "text/plain": [
       "tensor([1, 2, 3], dtype=torch.uint8)"
      ]
     },
     "execution_count": 2,
     "metadata": {},
     "output_type": "execute_result"
    }
   ],
   "source": [
    "a = torch.Tensor([1, 2, 3]).type(torch.uint8)\n",
    "a"
   ]
  },
  {
   "cell_type": "code",
   "execution_count": 3,
   "metadata": {},
   "outputs": [],
   "source": [
    "torch.save(a, \"test.tar\")"
   ]
  },
  {
   "cell_type": "code",
   "execution_count": 4,
   "metadata": {},
   "outputs": [
    {
     "data": {
      "text/plain": [
       "tensor([1, 2, 3], dtype=torch.uint8)"
      ]
     },
     "execution_count": 4,
     "metadata": {},
     "output_type": "execute_result"
    }
   ],
   "source": [
    "torch.load(\"test.tar\")"
   ]
  }
 ],
 "metadata": {
  "kernelspec": {
   "display_name": "robosuite",
   "language": "python",
   "name": "python3"
  },
  "language_info": {
   "codemirror_mode": {
    "name": "ipython",
    "version": 3
   },
   "file_extension": ".py",
   "mimetype": "text/x-python",
   "name": "python",
   "nbconvert_exporter": "python",
   "pygments_lexer": "ipython3",
   "version": "3.9.16"
  },
  "orig_nbformat": 4
 },
 "nbformat": 4,
 "nbformat_minor": 2
}
