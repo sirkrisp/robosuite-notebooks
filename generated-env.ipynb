{
 "cells": [
  {
   "cell_type": "code",
   "execution_count": null,
   "id": "01a86a86-088e-4c56-a037-707b34e39817",
   "metadata": {},
   "outputs": [],
   "source": [
    "import mujoco\n",
    "from PIL import Image\n",
    "from IPython.display import display"
   ]
  },
  {
   "cell_type": "code",
   "execution_count": null,
   "id": "c8752cf1-b886-4505-8dc6-311542025372",
   "metadata": {},
   "outputs": [],
   "source": [
    "import cv2"
   ]
  },
  {
   "cell_type": "code",
   "execution_count": null,
   "id": "88be63cc-8326-4e8d-b796-c79b1cbe00f2",
   "metadata": {},
   "outputs": [],
   "source": [
    "from robosuite.models import MujocoWorldBase\n",
    "\n",
    "world = MujocoWorldBase()"
   ]
  },
  {
   "cell_type": "code",
   "execution_count": null,
   "id": "80de22df-5edd-487a-addc-afd787de2362",
   "metadata": {},
   "outputs": [],
   "source": [
    "from robosuite.models.robots import Panda\n",
    "\n",
    "mujoco_robot = Panda()"
   ]
  },
  {
   "cell_type": "code",
   "execution_count": null,
   "id": "987c6d4a-1efe-4b21-b4a9-5b57780d70e3",
   "metadata": {},
   "outputs": [],
   "source": [
    "from robosuite.models.grippers import gripper_factory\n",
    "\n",
    "gripper = gripper_factory('PandaGripper')\n",
    "mujoco_robot.add_gripper(gripper)"
   ]
  },
  {
   "cell_type": "code",
   "execution_count": null,
   "id": "550d06d9-7f18-4208-9542-3e856f778627",
   "metadata": {},
   "outputs": [],
   "source": [
    "mujoco_robot.set_base_xpos([0, 0, 0])\n",
    "world.merge(mujoco_robot)"
   ]
  },
  {
   "cell_type": "code",
   "execution_count": null,
   "id": "de14c133-adea-4d67-b8eb-f49a59043fb2",
   "metadata": {},
   "outputs": [],
   "source": [
    "from robosuite.models.arenas import TableArena\n",
    "\n",
    "mujoco_arena = TableArena()\n",
    "mujoco_arena.set_origin([0.8, 0, 0])\n",
    "world.merge(mujoco_arena)"
   ]
  },
  {
   "cell_type": "code",
   "execution_count": null,
   "id": "be298369-2cc3-48d8-9b72-282d4e522c9a",
   "metadata": {},
   "outputs": [],
   "source": [
    "from robosuite.models.objects import BallObject\n",
    "from robosuite.utils.mjcf_utils import new_joint\n",
    "\n",
    "sphere = BallObject(\n",
    "    name=\"sphere\",\n",
    "    size=[0.04],\n",
    "    rgba=[0, 0.5, 0.5, 1]).get_obj()\n",
    "sphere.set('pos', '1.0 0 1.0')\n",
    "world.worldbody.append(sphere)"
   ]
  },
  {
   "cell_type": "code",
   "execution_count": null,
   "id": "7943aaf1-b997-4002-81e5-8d36f588d966",
   "metadata": {},
   "outputs": [],
   "source": []
  },
  {
   "cell_type": "code",
   "execution_count": null,
   "id": "7a45cd72-7ee8-4bb7-a79e-080f2a2890f7",
   "metadata": {},
   "outputs": [],
   "source": [
    "world.worldbody"
   ]
  },
  {
   "cell_type": "code",
   "execution_count": null,
   "id": "68e471a8-ae62-4831-ba4e-3b16667bb541",
   "metadata": {},
   "outputs": [],
   "source": [
    "model = world.get_model(mode=\"mujoco\")\n"
   ]
  },
  {
   "cell_type": "code",
   "execution_count": null,
   "id": "90836cd3-557c-4905-89aa-66cb813cb1bd",
   "metadata": {},
   "outputs": [],
   "source": [
    "model.geom(1)"
   ]
  },
  {
   "cell_type": "code",
   "execution_count": null,
   "id": "c4ca7e17-7927-49d5-b423-483c5ac2a443",
   "metadata": {},
   "outputs": [],
   "source": [
    "data = mujoco.MjData(model)"
   ]
  },
  {
   "cell_type": "code",
   "execution_count": null,
   "id": "6b3ca8dd-ad83-433c-b018-a9c5d2b19e2c",
   "metadata": {},
   "outputs": [],
   "source": [
    "renderer = mujoco.Renderer(model)"
   ]
  },
  {
   "cell_type": "code",
   "execution_count": null,
   "id": "6fad119d-8534-4e07-af0a-b90a5d2d2bc4",
   "metadata": {},
   "outputs": [],
   "source": [
    "mujoco.mj_forward(model, data)\n",
    "renderer.update_scene(data)"
   ]
  },
  {
   "cell_type": "code",
   "execution_count": null,
   "id": "e4a90780-36f4-46da-ae24-3c319548374c",
   "metadata": {},
   "outputs": [],
   "source": [
    "display(Image.fromarray(renderer.render()))"
   ]
  },
  {
   "cell_type": "code",
   "execution_count": null,
   "id": "de21cc68-c331-4421-89a9-cd55060121e7",
   "metadata": {},
   "outputs": [],
   "source": []
  },
  {
   "cell_type": "code",
   "execution_count": null,
   "id": "e0b29bc4-370c-4bea-bcd8-16e1b8d34467",
   "metadata": {},
   "outputs": [],
   "source": []
  },
  {
   "cell_type": "code",
   "execution_count": null,
   "id": "3cb68eee-8505-4e99-9caa-e03f46916eb4",
   "metadata": {},
   "outputs": [],
   "source": [
    "import numpy as np\n",
    "import robosuite as suite"
   ]
  },
  {
   "cell_type": "code",
   "execution_count": null,
   "id": "047b1a2c-5d99-4e1a-a3c4-f67b22f8054b",
   "metadata": {},
   "outputs": [],
   "source": [
    "env_names = [\"Lift\", \"Stack\", \"NutAssembly\", \"NutAssemblySingle\", \"NutAssemblySquare\", \"NutAssemblyRound\", \"PickPlace\", \"PickPlaceSingle\", \"PickPlaceMilk\", \"PickPlaceBread\", \"PickPlaceCereal\", \"PickPlaceCan\", \"Door\", \"Wipe\", \"TwoArmLift\", \"TwoArmPegInHole\", \"TwoArmHandover\"]\n",
    "env_names"
   ]
  },
  {
   "cell_type": "code",
   "execution_count": null,
   "id": "b1fa15c2-964e-4be9-9d23-d1ce841f9747",
   "metadata": {},
   "outputs": [],
   "source": [
    "# create environment instance\n",
    "env = suite.make(\n",
    "    env_name=\"Stack\", # try with other tasks like \"Stack\" and \"Door\"\n",
    "    robots=\"Panda\",  # try with other robots like \"Sawyer\" and \"Jaco\"\n",
    "    has_renderer=True,\n",
    "    has_offscreen_renderer=False,\n",
    "    use_camera_obs=False,\n",
    ")"
   ]
  },
  {
   "cell_type": "code",
   "execution_count": null,
   "id": "45a81c50-4fb2-453f-82fe-b2ffc668189a",
   "metadata": {},
   "outputs": [],
   "source": [
    "import importlib"
   ]
  },
  {
   "cell_type": "code",
   "execution_count": null,
   "id": "700ac1c8-2d55-42e3-840e-9b8156c960d7",
   "metadata": {},
   "outputs": [],
   "source": [
    "import bricks_env"
   ]
  },
  {
   "cell_type": "code",
   "execution_count": null,
   "id": "ccad7834-a200-4244-8a46-bf09678d1a10",
   "metadata": {},
   "outputs": [],
   "source": [
    "import robosuite"
   ]
  },
  {
   "cell_type": "code",
   "execution_count": null,
   "id": "f950e04e-2370-48f4-9726-8f10c951d7dc",
   "metadata": {},
   "outputs": [],
   "source": [
    "from numba.np.ufunc import _internal"
   ]
  },
  {
   "cell_type": "raw",
   "id": "c9ad843c-0e90-4dac-af57-714049328021",
   "metadata": {},
   "source": [
    "import numba as nb"
   ]
  },
  {
   "cell_type": "code",
   "execution_count": null,
   "id": "324a5fac-3d98-48a1-8ea3-cb3e453e2cd5",
   "metadata": {},
   "outputs": [],
   "source": [
    "import numba as nb"
   ]
  },
  {
   "cell_type": "code",
   "execution_count": null,
   "id": "a2a0e75d-99d6-4d86-b889-9248bf3591a5",
   "metadata": {},
   "outputs": [],
   "source": [
    "importlib.reload(bricks_env)"
   ]
  },
  {
   "cell_type": "code",
   "execution_count": null,
   "id": "6ffd7683-aed7-4365-adeb-fb87ca0dc43c",
   "metadata": {},
   "outputs": [],
   "source": [
    "env = bricks_env.BricksEnv(robots=\"Panda\", has_renderer=True)"
   ]
  },
  {
   "cell_type": "code",
   "execution_count": null,
   "id": "84a0f083-44e3-4221-9556-8201d4400fe5",
   "metadata": {},
   "outputs": [],
   "source": [
    "env_img = env.sim.render(224, 224, camera_name=\"frontview\")\n",
    "display(Image.fromarray(cv2.rotate(env_img, cv2.ROTATE_180)))"
   ]
  },
  {
   "cell_type": "code",
   "execution_count": null,
   "id": "03c4ee0b-4a02-4b9f-8e1b-7b6a25488124",
   "metadata": {},
   "outputs": [],
   "source": [
    "env.render()"
   ]
  },
  {
   "cell_type": "code",
   "execution_count": null,
   "id": "48bee691-0a69-4112-a665-5fbe11b822c5",
   "metadata": {},
   "outputs": [],
   "source": [
    "# TODO where are cameras added?\n",
    "camera_names = ['frontview', 'birdview', 'agentview', 'robot0_robotview', 'robot0_eye_in_hand']"
   ]
  },
  {
   "cell_type": "code",
   "execution_count": null,
   "id": "ce53cda4-590a-41a9-a2b6-374016b43557",
   "metadata": {},
   "outputs": [],
   "source": [
    "env.model.worldbody"
   ]
  },
  {
   "cell_type": "code",
   "execution_count": null,
   "id": "9a3c3c59-1275-49a8-98f9-d8cd400b0acb",
   "metadata": {},
   "outputs": [],
   "source": [
    "sphere = BallObject(\n",
    "    name=\"sphere\",\n",
    "    size=[0.04],\n",
    "    rgba=[0, 0.5, 0.5, 1],\n",
    "    density=200\n",
    ").get_obj()\n",
    "sphere.set('pos', '0 0 0')"
   ]
  },
  {
   "cell_type": "code",
   "execution_count": null,
   "id": "3589406e-52a7-44c7-a4ce-d366ec5127fb",
   "metadata": {},
   "outputs": [],
   "source": [
    "env.model.worldbody.append(sphere)"
   ]
  },
  {
   "cell_type": "code",
   "execution_count": null,
   "id": "d5eb15f0-e865-46db-8666-a35b99a964ca",
   "metadata": {},
   "outputs": [],
   "source": [
    "from robosuite.models.objects.composite.hammer import HammerObject"
   ]
  },
  {
   "cell_type": "code",
   "execution_count": null,
   "id": "b6c90bd0-d35b-4362-85e3-ee059e0fe4df",
   "metadata": {},
   "outputs": [],
   "source": [
    "hammer = HammerObject(name=\"hammer\", use_texture=False).get_obj()\n",
    "hammer.set('pos', '0.2 0.2 1.2')"
   ]
  },
  {
   "cell_type": "code",
   "execution_count": null,
   "id": "56261d55-4c68-48f3-915b-4bc2155611a5",
   "metadata": {},
   "outputs": [],
   "source": [
    "env.model.worldbody.append(hammer)"
   ]
  },
  {
   "cell_type": "code",
   "execution_count": null,
   "id": "571eaf91-e507-4078-8097-63804ad5f1a8",
   "metadata": {},
   "outputs": [],
   "source": [
    "def reinit_env(env):\n",
    "    # Load the model\n",
    "    # self._load_model()\n",
    "    \n",
    "    # Initialize the simulation\n",
    "    env._initialize_sim()\n",
    "\n",
    "    # initializes the rendering\n",
    "    env.initialize_renderer()\n",
    "\n",
    "    # Run all further internal (re-)initialization required\n",
    "    env._reset_internal()\n",
    "\n",
    "    # Load observables\n",
    "    if hasattr(env.viewer, \"_setup_observables\"):\n",
    "        env._observables = env.viewer._setup_observables()\n",
    "    else:\n",
    "        env._observables = env._setup_observables()\n",
    "        \n",
    "    # check if viewer has get observations method and set a flag for future use.\n",
    "    env.viewer_get_obs = hasattr(env.viewer, \"_get_observations\")"
   ]
  },
  {
   "cell_type": "code",
   "execution_count": null,
   "id": "981fe500-89b7-4926-8e4a-3a907df5a45d",
   "metadata": {},
   "outputs": [],
   "source": [
    "reinit_env(env)"
   ]
  },
  {
   "cell_type": "code",
   "execution_count": null,
   "id": "996010b1-84f3-4bce-9fec-bc990ca94398",
   "metadata": {},
   "outputs": [],
   "source": [
    "env.has_offscreen_renderer"
   ]
  },
  {
   "cell_type": "code",
   "execution_count": null,
   "id": "f9171db3-7eb2-4c03-a3bd-8fb1060e0190",
   "metadata": {},
   "outputs": [],
   "source": [
    "env._initialize_sim()\n",
    "env._reset_internal()\n",
    "hasattr(self.viewer, \"_setup_observables\")"
   ]
  },
  {
   "cell_type": "code",
   "execution_count": null,
   "id": "f41b785a-3914-47d1-ac2a-48b593cf64e8",
   "metadata": {},
   "outputs": [],
   "source": [
    "hasattr(env.viewer, \"_setup_observables\")"
   ]
  },
  {
   "cell_type": "code",
   "execution_count": null,
   "id": "c763aa23-1c26-43e7-80a5-cb6252a075c1",
   "metadata": {},
   "outputs": [],
   "source": [
    "hasattr(env.viewer, \"_get_observations\")"
   ]
  },
  {
   "cell_type": "code",
   "execution_count": null,
   "id": "4ca6e933-6390-407a-b654-6db8605ed31c",
   "metadata": {},
   "outputs": [],
   "source": [
    "frames = []\n",
    "for i in range(50):\n",
    "    env.step(np.zeros(8))\n",
    "    env_img = env.sim.render(720, 720, camera_name=\"agentview\")\n",
    "    frames.append(cv2.rotate(env_img, cv2.ROTATE_180))"
   ]
  },
  {
   "cell_type": "code",
   "execution_count": null,
   "id": "315d4c95-31e0-4cd9-8f63-fbd50f36202e",
   "metadata": {},
   "outputs": [],
   "source": [
    "    env.step(np.zeros(8))"
   ]
  },
  {
   "cell_type": "code",
   "execution_count": null,
   "id": "77dfc249-925b-49c2-99cc-a64db5928588",
   "metadata": {},
   "outputs": [],
   "source": [
    "import mediapy as media"
   ]
  },
  {
   "cell_type": "code",
   "execution_count": null,
   "id": "37cf036f-265b-4c4a-b8b5-f14853826b18",
   "metadata": {},
   "outputs": [],
   "source": [
    "media.show_video(frames)"
   ]
  },
  {
   "cell_type": "code",
   "execution_count": null,
   "id": "d6ddb5af-d749-4d06-98f3-0bf3958bd93b",
   "metadata": {},
   "outputs": [],
   "source": [
    "env_img = env.sim.render(1280, 1280, camera_name=\"agentview\")"
   ]
  },
  {
   "cell_type": "code",
   "execution_count": null,
   "id": "ddcac69a-6cf8-4125-aa80-6d1f16801154",
   "metadata": {},
   "outputs": [],
   "source": [
    "env_img = env.sim.render(1280, 1280, camera_name=\"agentview\")\n",
    "display(Image.fromarray(cv2.rotate(env_img, cv2.ROTATE_180)))"
   ]
  },
  {
   "cell_type": "code",
   "execution_count": null,
   "id": "8da13efa-9cf1-406e-93c8-27dd26f0f33a",
   "metadata": {},
   "outputs": [],
   "source": [
    "from bricks_env import PickPlace"
   ]
  },
  {
   "cell_type": "code",
   "execution_count": null,
   "id": "9578d74d-9d9b-4ab1-999e-9a7a9601b2b5",
   "metadata": {},
   "outputs": [],
   "source": [
    "env.step(action=np.zeros(8))"
   ]
  }
 ],
 "metadata": {
  "kernelspec": {
   "display_name": "Python 3 (ipykernel)",
   "language": "python",
   "name": "python3"
  },
  "language_info": {
   "codemirror_mode": {
    "name": "ipython",
    "version": 3
   },
   "file_extension": ".py",
   "mimetype": "text/x-python",
   "name": "python",
   "nbconvert_exporter": "python",
   "pygments_lexer": "ipython3",
   "version": "3.9.16"
  }
 },
 "nbformat": 4,
 "nbformat_minor": 5
}
