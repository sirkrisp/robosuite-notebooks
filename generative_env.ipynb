{
 "cells": [
  {
   "cell_type": "code",
   "execution_count": 6,
   "outputs": [],
   "source": [
    "import numpy as np"
   ],
   "metadata": {
    "collapsed": false,
    "ExecuteTime": {
     "end_time": "2023-05-14T12:26:19.957713Z",
     "start_time": "2023-05-14T12:26:19.952314Z"
    }
   }
  },
  {
   "cell_type": "code",
   "execution_count": 4,
   "outputs": [
    {
     "name": "stderr",
     "output_type": "stream",
     "text": [
      "\u001B[1m\u001B[33m[robosuite WARNING] \u001B[0mNo private macro file found! (__init__.py:7)\n",
      "\u001B[1m\u001B[33m[robosuite WARNING] \u001B[0mIt is recommended to use a private macro file (__init__.py:8)\n",
      "\u001B[1m\u001B[33m[robosuite WARNING] \u001B[0mTo setup, run: python /Users/krispin/miniconda3/envs/robosuite/lib/python3.9/site-packages/robosuite/scripts/setup_macros.py (__init__.py:9)\n"
     ]
    }
   ],
   "source": [
    "from bricks_dataset.brick_envs.brick_assembly_instruction import BrickAssemblyInstruction"
   ],
   "metadata": {
    "collapsed": false,
    "ExecuteTime": {
     "end_time": "2023-05-13T16:29:39.696089Z",
     "start_time": "2023-05-13T16:29:38.975957Z"
    }
   }
  },
  {
   "cell_type": "code",
   "execution_count": null,
   "outputs": [],
   "source": [],
   "metadata": {
    "collapsed": false,
    "ExecuteTime": {
     "end_time": "2023-05-13T16:24:58.007377Z",
     "start_time": "2023-05-13T16:24:57.982774Z"
    }
   }
  },
  {
   "cell_type": "code",
   "execution_count": null,
   "outputs": [],
   "source": [],
   "metadata": {
    "collapsed": false,
    "ExecuteTime": {
     "end_time": "2023-05-13T16:24:58.007786Z",
     "start_time": "2023-05-13T16:24:57.983713Z"
    }
   }
  },
  {
   "cell_type": "code",
   "execution_count": null,
   "outputs": [],
   "source": [],
   "metadata": {
    "collapsed": false,
    "ExecuteTime": {
     "end_time": "2023-05-13T16:24:58.007895Z",
     "start_time": "2023-05-13T16:24:57.990411Z"
    }
   }
  },
  {
   "cell_type": "code",
   "execution_count": 21,
   "outputs": [],
   "source": [
    "def generate_pin_sizes(num_blocks: int, total_num_pins: int):\n",
    "    pin_separators = np.random.choice(np.arange(total_num_pins - 1), size=num_blocks, replace=False)\n",
    "    pin_separators.sort()\n",
    "    sizes = np.diff(np.concatenate(([0], pin_separators + 1, [total_num_pins])))\n",
    "    assert np.sum(sizes) == total_num_pins\n",
    "    return sizes\n",
    "\n",
    "def generate_blocks(num_blocks: int, total_num_pins: tuple[int, int, int], start_id: int = 0):\n",
    "    sizes_x = generate_pin_sizes(num_blocks, total_num_pins[0])\n",
    "    sizes_y = generate_pin_sizes(num_blocks, total_num_pins[1])\n",
    "    sizes_z = generate_pin_sizes(num_blocks, total_num_pins[2])\n",
    "    return {i + start_id: (sizes_x[i], sizes_y[i], sizes_z[i]) for i in range(num_blocks)}\n"
   ],
   "metadata": {
    "collapsed": false,
    "ExecuteTime": {
     "end_time": "2023-05-14T12:37:07.979609Z",
     "start_time": "2023-05-14T12:37:07.976659Z"
    }
   }
  },
  {
   "cell_type": "code",
   "execution_count": 25,
   "outputs": [],
   "source": [
    "def generate_instructions(brick_shapes: dict[int, tuple[int, int, int]]):\n",
    "\n",
    "    used_bricks = [0]\n",
    "    unused_bricks = list(brick_shapes.keys())\n",
    "    unused_bricks.remove(0)\n",
    "\n",
    "    mask3d = np.zeros((100, 100, 100), dtype=np.uint8)\n",
    "    brick_locations = {0: (50, 50, 0)}\n",
    "\n",
    "    instructions = []\n",
    "\n",
    "    while len(unused_bricks) > 0:\n",
    "\n",
    "        # generate valid instruction\n",
    "        instruction = generate_instruction(used_bricks, unused_bricks, brick_shapes)\n",
    "        max_tries = 100\n",
    "        while not check_assembly(instruction, mask3d, brick_locations, brick_shapes) and max_tries > 0:\n",
    "            instruction = generate_instruction(used_bricks, unused_bricks, brick_shapes)\n",
    "            max_tries -= 1\n",
    "        if max_tries == 0:\n",
    "            raise Exception(\"Could not generate valid instruction\")\n",
    "\n",
    "        # add instruction\n",
    "        instructions.append(instruction)\n",
    "        used_bricks.append(instruction.brick_2_idx)\n",
    "        unused_bricks.remove(instruction.brick_2_idx)\n",
    "        brick_locations[instruction.brick_2_idx] = (\n",
    "            brick_locations[instruction.brick_1_idx][0] + instruction.pin_1[0] - instruction.pin_2[0],\n",
    "            brick_locations[instruction.brick_1_idx][1] + instruction.pin_1[1] - instruction.pin_2[1],\n",
    "            brick_locations[instruction.brick_1_idx][2] + brick_shapes[instruction.brick_1_idx][2]\n",
    "        )\n",
    "\n",
    "        # update mask\n",
    "        brick_2_shape = brick_shapes[instruction.brick_2_idx]\n",
    "        brick_2_location = brick_locations[instruction.brick_2_idx]\n",
    "        for x in range(brick_2_shape[0]):\n",
    "            for y in range(brick_2_shape[1]):\n",
    "                for z in range(brick_2_shape[2]):\n",
    "                    mask3d[brick_2_location[0] + x, brick_2_location[1] + y, brick_2_location[2] + z] = 1\n",
    "\n",
    "    return instructions\n"
   ],
   "metadata": {
    "collapsed": false,
    "ExecuteTime": {
     "end_time": "2023-05-14T12:38:15.020538Z",
     "start_time": "2023-05-14T12:38:15.019138Z"
    }
   }
  },
  {
   "cell_type": "code",
   "execution_count": 26,
   "outputs": [],
   "source": [
    "def generate_instruction(used_bricks: list[int], unused_bricks: list[int], brick_shapes: dict[int, tuple[int, int, int]]):\n",
    "    # select random block from added blocks\n",
    "    brick_1_id = np.random.choice(used_bricks)\n",
    "    brick_2_id = np.random.choice(unused_bricks)\n",
    "    brick_1_shape = brick_shapes[brick_1_id]\n",
    "    brick_2_shape = brick_shapes[brick_2_id]\n",
    "\n",
    "    # select random pin from brick 1\n",
    "    pin_1_x = np.random.randint(brick_1_shape[0])\n",
    "    pin_1_y = np.random.randint(brick_1_shape[1])\n",
    "\n",
    "    # select random pin from brick 2\n",
    "    pin_2_x = np.random.randint(brick_2_shape[0])\n",
    "    pin_2_y = np.random.randint(brick_2_shape[1])\n",
    "\n",
    "    # TODO select random orientation\n",
    "    o = 0  # np.random.randint(4)\n",
    "\n",
    "    # create instruction\n",
    "    instruction = BrickAssemblyInstruction(brick_1_id, (pin_1_x, pin_1_y), brick_2_id, (pin_2_x, pin_2_y), o)\n",
    "\n",
    "    return instruction"
   ],
   "metadata": {
    "collapsed": false,
    "ExecuteTime": {
     "end_time": "2023-05-14T12:38:15.207536Z",
     "start_time": "2023-05-14T12:38:15.204147Z"
    }
   }
  },
  {
   "cell_type": "code",
   "execution_count": 27,
   "outputs": [],
   "source": [
    "def check_assembly(instruction: BrickAssemblyInstruction, mask3d: np.ndarray, brick_locations: dict[int, tuple[int, int, int]], brick_shapes: dict[int, tuple[int, int, int]]):\n",
    "    brick_1_location = brick_locations[instruction.brick_1_idx]\n",
    "    assert instruction.o == 0\n",
    "    brick_1_shape = brick_shapes[instruction.brick_1_idx]\n",
    "    brick_2_shape = brick_shapes[instruction.brick_2_idx]\n",
    "    pin_1_x, pin_1_y = instruction.pin_1\n",
    "    pin_2_x, pin_2_y = instruction.pin_2\n",
    "    for x in range(brick_2_shape[0]):\n",
    "        for y in range(brick_2_shape[1]):\n",
    "            for z in range(brick_2_shape[2]):\n",
    "                if mask3d[brick_1_location[0] + x + pin_1_x - pin_2_x, brick_1_location[1] + y + pin_1_y - pin_2_y, brick_1_location[2] + brick_1_shape[2] + z] != 0:\n",
    "                    return False\n",
    "    return True"
   ],
   "metadata": {
    "collapsed": false,
    "ExecuteTime": {
     "end_time": "2023-05-14T12:38:15.368868Z",
     "start_time": "2023-05-14T12:38:15.366250Z"
    }
   }
  },
  {
   "cell_type": "code",
   "execution_count": 28,
   "outputs": [
    {
     "data": {
      "text/plain": "{1: (2, 4, 1),\n 2: (1, 1, 4),\n 3: (7, 5, 3),\n 4: (1, 3, 1),\n 5: (3, 1, 3),\n 6: (5, 1, 1),\n 0: (4, 4, 1)}"
     },
     "execution_count": 28,
     "metadata": {},
     "output_type": "execute_result"
    }
   ],
   "source": [
    "brick_shapes = generate_blocks(6, (20, 20, 15), start_id=1)\n",
    "brick_shapes[0] = (4, 4, 1)\n",
    "brick_shapes"
   ],
   "metadata": {
    "collapsed": false,
    "ExecuteTime": {
     "end_time": "2023-05-14T12:38:51.651689Z",
     "start_time": "2023-05-14T12:38:51.647282Z"
    }
   }
  },
  {
   "cell_type": "code",
   "execution_count": 29,
   "outputs": [
    {
     "data": {
      "text/plain": "[BrickAssemblyInstruction(brick_1_idx=0, pin_1=(1, 3), brick_2_idx=3, pin_2=(4, 4), o=0),\n BrickAssemblyInstruction(brick_1_idx=3, pin_1=(4, 1), brick_2_idx=4, pin_2=(0, 2), o=0),\n BrickAssemblyInstruction(brick_1_idx=4, pin_1=(0, 0), brick_2_idx=6, pin_2=(1, 0), o=0),\n BrickAssemblyInstruction(brick_1_idx=3, pin_1=(4, 3), brick_2_idx=2, pin_2=(0, 0), o=0),\n BrickAssemblyInstruction(brick_1_idx=6, pin_1=(2, 0), brick_2_idx=5, pin_2=(0, 0), o=0),\n BrickAssemblyInstruction(brick_1_idx=6, pin_1=(1, 0), brick_2_idx=1, pin_2=(1, 0), o=0)]"
     },
     "execution_count": 29,
     "metadata": {},
     "output_type": "execute_result"
    }
   ],
   "source": [
    "generate_instructions(brick_shapes)"
   ],
   "metadata": {
    "collapsed": false,
    "ExecuteTime": {
     "end_time": "2023-05-14T12:38:58.589044Z",
     "start_time": "2023-05-14T12:38:58.584699Z"
    }
   }
  },
  {
   "cell_type": "code",
   "execution_count": 3,
   "outputs": [],
   "source": [],
   "metadata": {
    "collapsed": false,
    "ExecuteTime": {
     "end_time": "2023-05-13T16:29:01.763484Z",
     "start_time": "2023-05-13T16:29:01.760677Z"
    }
   }
  },
  {
   "cell_type": "code",
   "execution_count": 3,
   "outputs": [],
   "source": [],
   "metadata": {
    "collapsed": false,
    "ExecuteTime": {
     "end_time": "2023-05-13T16:29:02.012475Z",
     "start_time": "2023-05-13T16:29:02.008527Z"
    }
   }
  },
  {
   "cell_type": "code",
   "execution_count": null,
   "outputs": [],
   "source": [],
   "metadata": {
    "collapsed": false
   }
  }
 ],
 "metadata": {
  "kernelspec": {
   "display_name": "Python 3",
   "language": "python",
   "name": "python3"
  },
  "language_info": {
   "codemirror_mode": {
    "name": "ipython",
    "version": 2
   },
   "file_extension": ".py",
   "mimetype": "text/x-python",
   "name": "python",
   "nbconvert_exporter": "python",
   "pygments_lexer": "ipython2",
   "version": "2.7.6"
  }
 },
 "nbformat": 4,
 "nbformat_minor": 0
}
